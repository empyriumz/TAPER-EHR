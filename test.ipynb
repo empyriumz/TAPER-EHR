{
 "cells": [
  {
   "cell_type": "markdown",
   "metadata": {},
   "source": [
    "## Package loading"
   ]
  },
  {
   "cell_type": "code",
   "execution_count": 1,
   "metadata": {},
   "outputs": [],
   "source": [
    "import pandas as pd\n",
    "import numpy as np\n",
    "import sys\n",
    "import re\n",
    "import pickle"
   ]
  },
  {
   "cell_type": "markdown",
   "metadata": {},
   "source": [
    "## Test gen_data_df.py"
   ]
  },
  {
   "cell_type": "markdown",
   "metadata": {
    "collapsed": "true"
   },
   "source": [
    "### Function definitions"
   ]
  },
  {
   "cell_type": "code",
   "execution_count": 38,
   "metadata": {},
   "outputs": [],
   "source": [
    "def read_patients_table():\n",
    "    p = pd.read_csv(\"data/PATIENTS.csv.gz\")\n",
    "    p = p[\n",
    "        [\n",
    "            \"SUBJECT_ID\",\n",
    "            \"GENDER\",\n",
    "            \"DOB\",\n",
    "            \"DOD\",\n",
    "        ]\n",
    "    ]\n",
    "    p[\"DOB\"] = pd.to_datetime(p[\"DOB\"])\n",
    "    p[\"DOD\"] = pd.to_datetime(p[\"DOD\"])\n",
    "    return p\n",
    "\n",
    "def read_icd_diagnoses_table():\n",
    "    codes = pd.read_csv(\"data/D_ICD_DIAGNOSES.csv.gz\")\n",
    "    codes = codes[[\"ICD9_CODE\", \"SHORT_TITLE\", \"LONG_TITLE\"]]\n",
    "    diagnoses = pd.read_csv(\"data/DIAGNOSES_ICD.csv.gz\")\n",
    "    diagnoses = diagnoses.merge(\n",
    "        codes, how=\"inner\", left_on=\"ICD9_CODE\", right_on=\"ICD9_CODE\"\n",
    "    )\n",
    "    diagnoses[[\"SUBJECT_ID\", \"HADM_ID\", \"SEQ_NUM\"]] = diagnoses[\n",
    "        [\"SUBJECT_ID\", \"HADM_ID\", \"SEQ_NUM\"]\n",
    "    ].astype(int)\n",
    "    return diagnoses\n",
    "\n",
    "def read_icd_procedures_table():\n",
    "    codes = pd.read_csv(\"data/D_ICD_PROCEDURES.csv.gz\")\n",
    "    codes = codes[[\"ICD9_CODE\", \"SHORT_TITLE\", \"LONG_TITLE\"]]\n",
    "    procedures = pd.read_csv(\"data/PROCEDURES_ICD.csv.gz\")\n",
    "    procedures = procedures.merge(\n",
    "        codes, how=\"inner\", left_on=\"ICD9_CODE\", right_on=\"ICD9_CODE\"\n",
    "    )\n",
    "    procedures[[\"SUBJECT_ID\", \"HADM_ID\", \"SEQ_NUM\"]] = procedures[\n",
    "        [\"SUBJECT_ID\", \"HADM_ID\", \"SEQ_NUM\"]\n",
    "    ].astype(int)\n",
    "    return procedures\n",
    "\n",
    "def read_cptevents_table():\n",
    "    cpt = pd.read_csv(\"data/CPTEVENTS.csv.gz\")\n",
    "    cpt = cpt[\n",
    "        [\n",
    "            \"SUBJECT_ID\",\n",
    "            \"HADM_ID\",\n",
    "            \"CPT_CD\",\n",
    "        ]\n",
    "    ]\n",
    "    return cpt\n",
    "\n",
    "def read_prescriptions_table():\n",
    "    prescription = pd.read_csv(\"data/PRESCRIPTIONS.csv.gz\")\n",
    "    prescription = prescription[~prescription[\"NDC\"].isna()]\n",
    "    prescription = prescription[[\"SUBJECT_ID\", \"HADM_ID\", \"NDC\"]].astype(int)\n",
    "    prescription = prescription.dropna()\n",
    "    return prescription\n",
    "\n",
    "def read_icustays_table():\n",
    "    icu = pd.read_csv(\"data/ICUSTAYS.csv.gz\")\n",
    "    icu[\"INTIME\"] = pd.to_datetime(icu[\"INTIME\"])\n",
    "    icu[\"OUTTIME\"] = pd.to_datetime(icu[\"OUTTIME\"])\n",
    "    return icu\n",
    "\n",
    "DataFrame = pd.DataFrame\n",
    "\n",
    "def filter_codes(df, code:str, min_=5, max_=np.inf) -> DataFrame:\n",
    "    t = df.groupby(code)[code].transform(len) > min_\n",
    "    num_codes = len(set(df[code]))\n",
    "    num_codes_after = len(set(df.loc[t, code]))\n",
    "    print(\n",
    "        \"removing {} codes occuring less than {} times. \\n num codes before filter: {} after filtering: {}\".format(\n",
    "            code, min_, num_codes, num_codes_after\n",
    "        )\n",
    "    )\n",
    "    return df[t]\n",
    "\n",
    "def remove_min_admissions(t, min_admits=1):\n",
    "    tt = t.groupby(\"SUBJECT_ID\").SUBJECT_ID.transform(len) >= min_admits\n",
    "    t = t[tt]\n",
    "    print(\n",
    "        \"num of subjects with min_admits of {} is {}\".format(\n",
    "            min_admits, len(set(t[\"SUBJECT_ID\"]))\n",
    "        )\n",
    "    )\n",
    "    return t\n",
    "\n",
    "def group_by_return_col_list(t, groupby, col, col_name=\"\"):\n",
    "    if col_name == \"\":\n",
    "        col_name = col\n",
    "    return (\n",
    "        t.groupby(groupby)\n",
    "        .apply(lambda x: x[col].values.tolist())\n",
    "        .reset_index(name=col_name)\n",
    "    )\n",
    "\n",
    "def merge_on_subject(\n",
    "    t1,\n",
    "    t2,\n",
    "    how=\"left\",\n",
    "    left_on=[\"SUBJECT_ID\", \"HADM_ID\"],\n",
    "    right_on=[\"SUBJECT_ID\", \"HADM_ID\"],\n",
    "):\n",
    "    return t1.merge(\n",
    "        t2,\n",
    "        how=how,\n",
    "        left_on=left_on,\n",
    "        right_on=right_on,\n",
    "    )\n",
    "\n",
    "def add_age_to_icustays(stays):\n",
    "    dob = pd.to_datetime(stays[\"DOB\"])\n",
    "    dob = dob.values.astype(\"datetime64[s]\")\n",
    "    intime = pd.to_datetime(stays[\"INTIME\"])\n",
    "    intime = intime.values.astype(\"datetime64[s]\")\n",
    "    age = intime - dob\n",
    "    g = lambda x: x / np.timedelta64(1, \"s\") / 60 / 60 / 24 / 365\n",
    "    stays[\"AGE\"] = np.asarray(list(map(g, age)))\n",
    "    idxs = stays.AGE < 0\n",
    "    stays.loc[idxs, \"AGE\"] = 90\n",
    "    return stays\n",
    "\n",
    "### If Less than n days on admission notes (Early notes)\n",
    "def less_n_days_data(df_adm_notes, n):\n",
    "    df_less_n = df_adm_notes[\n",
    "        (\n",
    "            (\n",
    "                df_adm_notes[\"CHARTDATE\"] - df_adm_notes[\"ADMITTIME_C\"]\n",
    "            ).dt.total_seconds()\n",
    "            / (24 * 60 * 60)\n",
    "        )\n",
    "        < n\n",
    "    ]\n",
    "    df_less_n = df_less_n[df_less_n[\"TEXT\"].notnull()]\n",
    "    return df_less_n\n",
    "\n",
    "def preprocess1(x):\n",
    "    y = re.sub(\"\\\\[(.*?)\\\\]\", \"\", x)  # remove de-identified brackets\n",
    "    y = re.sub(\n",
    "        \"[0-9]+\\.\", \"\", y\n",
    "    )  # remove 1.2. since the segmenter segments based on this\n",
    "    y = re.sub(\"dr\\.\", \"doctor\", y)\n",
    "    y = re.sub(\"m\\.d\\.\", \"md\", y)\n",
    "    y = re.sub(\"admission date:\", \"\", y)\n",
    "    y = re.sub(\"discharge date:\", \"\", y)\n",
    "    y = re.sub(\"--|__|==\", \"\", y)\n",
    "    return y\n",
    "\n",
    "def preprocessing(df, col = 'TEXT'):\n",
    "    df[col] = df[col].fillna(\" \")\n",
    "    df[col] = df[col].str.replace(\"\\n\", \" \")\n",
    "    df[col] = df[col].str.replace(\"\\r\", \" \")\n",
    "    df[col] = df[col].apply(str.strip)\n",
    "    df[col] = df[col].str.lower()\n",
    "    df[col] = df[col].apply(lambda x: preprocess1(x))\n",
    "    df[col] = df[col].apply(lambda x: \" \".join(x.split()))\n",
    "    return df\n",
    "\n",
    "def append_text(df):\n",
    "    group = df.groupby('HADM_ID')\n",
    "    df_list = []\n",
    "    for idx in group.groups.values():\n",
    "        tmp = df.loc[idx]\n",
    "        discharge = tmp[tmp[\"CATEGORY\"] == \"Discharge summary\"]\n",
    "        rest = tmp[tmp[\"CATEGORY\"] != \"Discharge summary\"]\n",
    "        discharge = \" \".join(discharge[\"TEXT\"])\n",
    "        rest = \" \".join(rest[\"TEXT\"])\n",
    "        tmp = tmp.iloc[0]\n",
    "        tmp['TEXT_DISCHARGE'] = discharge\n",
    "        tmp['TEXT_REST'] = rest\n",
    "        df_list.append(tmp)\n",
    "    \n",
    "    df = pd.concat(df_list, axis = 1)\n",
    "    return df.T\n",
    "\n",
    "def compute_time_delta(df):\n",
    "    df[\"TIMEDELTA\"] = (\n",
    "        df.sort_values([\"SUBJECT_ID\", \"ADMITTIME\"])\n",
    "        .groupby([\"SUBJECT_ID\"])[\"ADMITTIME\"]\n",
    "        .diff()\n",
    "    )\n",
    "\n",
    "    return df"
   ]
  },
  {
   "cell_type": "markdown",
   "metadata": {
    "collapsed": "true"
   },
   "source": [
    "### Generate all data including text"
   ]
  },
  {
   "cell_type": "code",
   "execution_count": 39,
   "metadata": {},
   "outputs": [],
   "source": [
    "df_adm = pd.read_csv(\"data/ADMISSIONS.csv.gz\")\n",
    "df_adm.ADMITTIME = pd.to_datetime(\n",
    "  df_adm.ADMITTIME, format=\"%Y-%m-%d %H:%M:%S\", errors=\"coerce\"\n",
    " )\n",
    "df_adm.DISCHTIME = pd.to_datetime(\n",
    "  df_adm.DISCHTIME, format=\"%Y-%m-%d %H:%M:%S\", errors=\"coerce\"\n",
    " )\n",
    "df_adm.DEATHTIME = pd.to_datetime(\n",
    "  df_adm.DEATHTIME, format=\"%Y-%m-%d %H:%M:%S\", errors=\"coerce\"\n",
    " )"
   ]
  },
  {
   "cell_type": "code",
   "execution_count": 40,
   "metadata": {},
   "outputs": [],
   "source": [
    "df_adm = df_adm.sort_values([\"SUBJECT_ID\", \"ADMITTIME\"])\n",
    "df_adm = df_adm.reset_index(drop=True)"
   ]
  },
  {
   "cell_type": "code",
   "execution_count": null,
   "metadata": {},
   "outputs": [],
   "source": [
    "ids = df_adm['SUBJECT_ID'].values\n",
    "print(len(ids), len(set(ids)))"
   ]
  },
  {
   "cell_type": "code",
   "execution_count": 41,
   "metadata": {},
   "outputs": [],
   "source": [
    "df_adm[\"NEXT_ADMITTIME\"] = df_adm.groupby(\"SUBJECT_ID\").ADMITTIME.shift(-1)\n",
    "df_adm[\"NEXT_ADMISSION_TYPE\"] = df_adm.groupby(\"SUBJECT_ID\").ADMISSION_TYPE.shift(-1)"
   ]
  },
  {
   "cell_type": "code",
   "execution_count": 42,
   "metadata": {},
   "outputs": [],
   "source": [
    "rows = df_adm.NEXT_ADMISSION_TYPE == \"ELECTIVE\"\n",
    "df_adm.loc[rows, \"NEXT_ADMITTIME\"] = pd.NaT\n",
    "df_adm.loc[rows, \"NEXT_ADMISSION_TYPE\"] = np.NaN\n",
    "df_adm = df_adm.sort_values([\"SUBJECT_ID\", \"ADMITTIME\"])"
   ]
  },
  {
   "cell_type": "code",
   "execution_count": 43,
   "metadata": {},
   "outputs": [],
   "source": [
    "df_adm[\"DAYS_NEXT_ADMIT\"] = (\n",
    "        df_adm.NEXT_ADMITTIME - df_adm.DISCHTIME\n",
    "    ).dt.total_seconds() / (24 * 60 * 60)\n",
    "df_adm[\"readmission_label\"] = (df_adm.DAYS_NEXT_ADMIT < 30).astype(\"int\")\n",
    "### filter out newborn and death\n",
    "df_adm = df_adm[df_adm[\"ADMISSION_TYPE\"] != \"NEWBORN\"]\n",
    "df_adm[\"DURATION\"] = (\n",
    "        df_adm[\"DISCHTIME\"] - df_adm[\"ADMITTIME\"]\n",
    "    ).dt.total_seconds() / (24 * 60 * 60)"
   ]
  },
  {
   "cell_type": "code",
   "execution_count": null,
   "metadata": {},
   "outputs": [],
   "source": [
    "df_notes = pd.read_csv(\"data/NOTEEVENTS.csv.gz\")\n",
    "df_notes = df_notes.sort_values(by=[\"SUBJECT_ID\", \"HADM_ID\", \"CHARTDATE\"])\n",
    "\n",
    "df_adm_notes = pd.merge(\n",
    "        df_adm[\n",
    "            [\n",
    "                \"SUBJECT_ID\",\n",
    "                \"HADM_ID\",\n",
    "                \"ADMITTIME\",\n",
    "                \"DISCHTIME\",\n",
    "                \"DAYS_NEXT_ADMIT\",\n",
    "                \"NEXT_ADMITTIME\",\n",
    "                \"ADMISSION_TYPE\",\n",
    "                \"DEATHTIME\",\n",
    "                \"readmission_label\",\n",
    "                \"DURATION\",\n",
    "                \"DIAGNOSIS\",\n",
    "                \"MARITAL_STATUS\",\n",
    "                \"ETHNICITY\",\n",
    "                \"DISCHARGE_LOCATION\",\n",
    "            ]\n",
    "        ],\n",
    "        df_notes[[\"SUBJECT_ID\", \"HADM_ID\", \"CHARTDATE\", \"TEXT\", \"CATEGORY\"]],\n",
    "        on=[\"SUBJECT_ID\", \"HADM_ID\"],\n",
    "        how=\"left\",\n",
    "    )"
   ]
  },
  {
   "cell_type": "code",
   "execution_count": null,
   "metadata": {},
   "outputs": [],
   "source": [
    "# Adding clinical codes to dataset\n",
    "\n",
    "# add diagnoses\n",
    "code = \"ICD9_CODE\"\n",
    "diagnoses = read_icd_diagnoses_table()\n",
    "diagnoses = filter_codes(diagnoses, code = code)\n",
    "diagnoses = group_by_return_col_list(\n",
    "            diagnoses, [\"SUBJECT_ID\", \"HADM_ID\"], code\n",
    "            )\n",
    "\n",
    "# add procedures\n",
    "procedures = read_icd_procedures_table()\n",
    "procedures = filter_codes(procedures, code = code)\n",
    "procedures = group_by_return_col_list(\n",
    "            procedures, [\"SUBJECT_ID\", \"HADM_ID\"], code, \"ICD9_CODE_PROCEDURE\"\n",
    "            )\n",
    "\n",
    "# add cptevents\n",
    "code = \"CPT_CD\"\n",
    "cptevents = read_cptevents_table()\n",
    "cptevents = filter_codes(cptevents, code = code)\n",
    "cptevents = group_by_return_col_list(cptevents, [\"SUBJECT_ID\", \"HADM_ID\"], code)\n",
    "\n",
    "# add prescriptions\n",
    "code = \"NDC\"\n",
    "prescriptions = read_prescriptions_table()\n",
    "prescriptions = filter_codes(prescriptions, code = code)\n",
    "prescriptions = group_by_return_col_list(\n",
    "                prescriptions, [\"SUBJECT_ID\", \"HADM_ID\"], code\n",
    "                )\n"
   ]
  },
  {
   "cell_type": "code",
   "execution_count": null,
   "metadata": {},
   "outputs": [],
   "source": [
    "patients = read_patients_table()\n",
    "stays = read_icustays_table()\n",
    "stays = merge_on_subject(\n",
    "        stays, patients, how=\"inner\", left_on=[\"SUBJECT_ID\"], right_on=[\"SUBJECT_ID\"]\n",
    ")\n",
    "stays = merge_on_subject(stays, diagnoses)\n",
    "stays = merge_on_subject(stays, cptevents)\n",
    "stays = merge_on_subject(stays, prescriptions)\n",
    "stays = merge_on_subject(stays, procedures)\n",
    "stays = add_age_to_icustays(stays)"
   ]
  },
  {
   "cell_type": "code",
   "execution_count": null,
   "metadata": {},
   "outputs": [],
   "source": [
    "filters=[\n",
    "            \"Discharge summary\",\n",
    "            \"ECG\",\n",
    "            \"Pharmacy\",\n",
    "            \"Physician\",\n",
    "            \"Radiology\",\n",
    "            \"Respiratory\",\n",
    "        ]\n",
    "\n",
    "df_adm_notes = pd.merge(\n",
    "                df_adm_notes, stays, on=[\"SUBJECT_ID\", \"HADM_ID\"], how=\"left\"\n",
    "            )\n",
    "filt = df_adm_notes[\"ICD9_CODE\"].isna() & df_adm_notes[\"CPT_CD\"].isna()\n",
    "df_adm_notes = df_adm_notes[~filt]\n",
    "\n",
    "df_adm_notes[\"ADMITTIME_C\"] = df_adm_notes.ADMITTIME.apply(lambda x: str(x).split(\" \")[0])\n",
    "df_adm_notes[\"ADMITTIME_C\"] = pd.to_datetime(\n",
    "                                df_adm_notes.ADMITTIME_C, \n",
    "                                format=\"%Y-%m-%d\", \n",
    "                                errors=\"coerce\"\n",
    "                            )\n",
    "df_adm_notes[\"CHARTDATE\"] = pd.to_datetime(\n",
    "                            df_adm_notes.CHARTDATE, \n",
    "                            format=\"%Y-%m-%d\", \n",
    "                            errors=\"coerce\"\n",
    "                            )\n",
    "\n",
    "filt = df_adm_notes[\"CATEGORY\"].apply(lambda x: x in filters)\n",
    "df_adm_notes = df_adm_notes[filt]"
   ]
  },
  {
   "cell_type": "code",
   "execution_count": null,
   "metadata": {},
   "outputs": [],
   "source": [
    "### If Discharge Summary\n",
    "df_discharge = df_adm_notes[df_adm_notes[\"CATEGORY\"] == \"Discharge summary\"]\n",
    "\n",
    "# multiple discharge summary for one admission -> after examination -> replicated summary -> replace with the last one\n",
    "df_discharge = (\n",
    "    df_discharge.groupby([\"SUBJECT_ID\", \"HADM_ID\"]).nth(-1)\n",
    ").reset_index()\n",
    "df_discharge = df_discharge[df_discharge[\"TEXT\"].notnull()]\n",
    "df_discharge = remove_min_admissions(df_discharge, min_admits=2)\n",
    "df_adm_notes = df_adm_notes[df_adm_notes[\"CATEGORY\"] != \"Discharge summary\"]"
   ]
  },
  {
   "cell_type": "code",
   "execution_count": null,
   "metadata": {},
   "outputs": [],
   "source": [
    "df_less_1 = less_n_days_data(df_adm_notes, 1)\n",
    "df_less_2 = less_n_days_data(df_adm_notes, 2)"
   ]
  },
  {
   "cell_type": "code",
   "execution_count": null,
   "metadata": {},
   "outputs": [],
   "source": [
    "df_less_1 = df_less_1.append(df_discharge).reset_index()\n",
    "df_less_1 = preprocessing(df_less_1)"
   ]
  },
  {
   "cell_type": "code",
   "execution_count": null,
   "metadata": {},
   "outputs": [],
   "source": [
    "df_adm_notes.columns"
   ]
  },
  {
   "cell_type": "code",
   "execution_count": null,
   "metadata": {},
   "outputs": [],
   "source": [
    "df_adm_notes.TEXT"
   ]
  },
  {
   "cell_type": "markdown",
   "metadata": {
    "collapsed": "true"
   },
   "source": [
    "## Data without text "
   ]
  },
  {
   "cell_type": "code",
   "execution_count": null,
   "metadata": {},
   "outputs": [],
   "source": [
    "# format date time\n",
    "df_adm = pd.read_csv(\"data/ADMISSIONS.csv.gz\")\n",
    "df_adm.ADMITTIME = pd.to_datetime(\n",
    "    df_adm.ADMITTIME, format=\"%Y-%m-%d %H:%M:%S\", errors=\"coerce\"\n",
    ")\n",
    "df_adm.DISCHTIME = pd.to_datetime(\n",
    "    df_adm.DISCHTIME, format=\"%Y-%m-%d %H:%M:%S\", errors=\"coerce\"\n",
    ")\n",
    "df_adm.DEATHTIME = pd.to_datetime(\n",
    "    df_adm.DEATHTIME, format=\"%Y-%m-%d %H:%M:%S\", errors=\"coerce\"\n",
    ")\n",
    "\n",
    "df_adm = df_adm.sort_values([\"SUBJECT_ID\", \"ADMITTIME\"])\n",
    "df_adm = df_adm.reset_index(drop=True)\n",
    "# one task in the paper is to predict re-admission within 30 days\n",
    "df_adm[\"NEXT_ADMITTIME\"] = df_adm.groupby(\"SUBJECT_ID\").ADMITTIME.shift(periods=-1)\n",
    "df_adm[\"NEXT_ADMISSION_TYPE\"] = df_adm.groupby(\"SUBJECT_ID\").ADMISSION_TYPE.shift(\n",
    "    periods=-1\n",
    ")"
   ]
  },
  {
   "cell_type": "code",
   "execution_count": null,
   "metadata": {},
   "outputs": [],
   "source": [
    "rows = df_adm.NEXT_ADMISSION_TYPE == \"ELECTIVE\"\n",
    "df_adm.loc[rows, \"NEXT_ADMITTIME\"] = pd.NaT\n",
    "df_adm.loc[rows, \"NEXT_ADMISSION_TYPE\"] = np.NaN\n",
    "\n",
    "df_adm = df_adm.sort_values([\"SUBJECT_ID\",\"ADMITTIME\"])\n",
    "\n",
    "# When we filter out the \"ELECTIVE\",\n",
    "# we need to correct the next admit time\n",
    "# for these admissions since there might\n",
    "# be 'emergency' next admit after \"ELECTIVE\"\n",
    "df_adm[[\"NEXT_ADMITTIME\", \"NEXT_ADMISSION_TYPE\"]] = df_adm.groupby([\"SUBJECT_ID\"])[\n",
    "    [\"NEXT_ADMITTIME\", \"NEXT_ADMISSION_TYPE\"]\n",
    "].fillna(method=\"bfill\")\n",
    "df_adm[\"DAYS_NEXT_ADMIT\"] = (\n",
    "    df_adm.NEXT_ADMITTIME - df_adm.DISCHTIME\n",
    ").dt.total_seconds() / (24 * 60 * 60)\n",
    "df_adm[\"readmission_label\"] = (df_adm.DAYS_NEXT_ADMIT < 30).astype(\"int\")\n",
    "### filter out newborn and death\n",
    "df_adm = df_adm[df_adm[\"ADMISSION_TYPE\"] != \"NEWBORN\"]\n",
    "df_adm[\"DURATION\"] = (\n",
    "    df_adm[\"DISCHTIME\"] - df_adm[\"ADMITTIME\"]\n",
    ").dt.total_seconds() / (24 * 60 * 60)"
   ]
  },
  {
   "cell_type": "code",
   "execution_count": null,
   "metadata": {},
   "outputs": [],
   "source": [
    "# Adding clinical codes to dataset\n",
    "# add diagnoses\n",
    "code = \"ICD9_CODE\"\n",
    "diagnoses = read_icd_diagnoses_table()\n",
    "diagnoses = filter_codes(diagnoses, code=code)\n",
    "diagnoses = group_by_return_col_list(diagnoses, [\"SUBJECT_ID\", \"HADM_ID\"], code)\n",
    "\n",
    "# add procedures\n",
    "procedures = read_icd_procedures_table()\n",
    "procedures = filter_codes(procedures, code=code)\n",
    "procedures = group_by_return_col_list(\n",
    "    procedures, [\"SUBJECT_ID\", \"HADM_ID\"], code, \"ICD9_CODE_PROCEDURE\"\n",
    ")\n",
    "\n",
    "# add cptevents\n",
    "code = \"CPT_CD\"\n",
    "cptevents = read_cptevents_table()\n",
    "cptevents = filter_codes(cptevents, code=code)\n",
    "cptevents = group_by_return_col_list(cptevents, [\"SUBJECT_ID\", \"HADM_ID\"], code)\n",
    "\n",
    "# add prescriptions\n",
    "code = \"NDC\"\n",
    "prescriptions = read_prescriptions_table()\n",
    "prescriptions = filter_codes(prescriptions, code=code)\n",
    "prescriptions = group_by_return_col_list(\n",
    "    prescriptions, [\"SUBJECT_ID\", \"HADM_ID\"], code\n",
    ")"
   ]
  },
  {
   "cell_type": "code",
   "execution_count": null,
   "metadata": {},
   "outputs": [],
   "source": [
    "patients = read_patients_table()\n",
    "stays = read_icustays_table()\n",
    "stays = stays.merge(patients, how='inner', left_on=['SUBJECT_ID'], right_on=[\"SUBJECT_ID\"])\n",
    "cols = [\"SUBJECT_ID\", \"HADM_ID\"]\n",
    "stays = stays.merge(diagnoses, how=\"inner\", left_on=cols, right_on=cols)\n",
    "stays = stays.merge(procedures, how=\"inner\", left_on=cols, right_on=cols)"
   ]
  },
  {
   "cell_type": "code",
   "execution_count": null,
   "metadata": {},
   "outputs": [],
   "source": [
    "s1 = set(stays.SUBJECT_ID)"
   ]
  },
  {
   "cell_type": "code",
   "execution_count": null,
   "metadata": {},
   "outputs": [],
   "source": [
    "d1, c1, p1, m1 = (set(diagnoses.SUBJECT_ID), set(cptevents.SUBJECT_ID), \n",
    "                  set(procedures.SUBJECT_ID), set(prescriptions.SUBJECT_ID))"
   ]
  },
  {
   "cell_type": "code",
   "execution_count": null,
   "metadata": {},
   "outputs": [],
   "source": [
    "len(d1 & s1), len(p1 & s1), len(p1 & s1 & d1), len((p1 & s1) & (d1 & d))"
   ]
  },
  {
   "cell_type": "code",
   "execution_count": null,
   "metadata": {},
   "outputs": [],
   "source": [
    "code = \"ICD9_CODE\"\n",
    "diagnoses = read_icd_diagnoses_table()\n",
    "diagnoses = filter_codes(diagnoses, code=code)\n",
    "diagnoses['ICD9_SHORT'] = diagnoses['ICD9_CODE'].apply(lambda x: x[:3])"
   ]
  },
  {
   "cell_type": "code",
   "execution_count": null,
   "metadata": {},
   "outputs": [],
   "source": [
    "d1 = group_by_return_col_list(diagnoses, [\"SUBJECT_ID\", \"HADM_ID\"], code)\n",
    "d2 = group_by_return_col_list(diagnoses, [\"SUBJECT_ID\", \"HADM_ID\"], 'ICD9_SHORT')"
   ]
  },
  {
   "cell_type": "code",
   "execution_count": null,
   "metadata": {},
   "outputs": [],
   "source": [
    "d2"
   ]
  },
  {
   "cell_type": "code",
   "execution_count": null,
   "metadata": {},
   "outputs": [],
   "source": [
    "# add procedures\n",
    "procedures = read_icd_procedures_table()\n",
    "procedures = filter_codes(procedures, code=code)"
   ]
  },
  {
   "cell_type": "code",
   "execution_count": null,
   "metadata": {},
   "outputs": [],
   "source": [
    "procedures['ICD9_PROC_SHORT'] = procedures['ICD9_CODE'].apply(lambda x: str(x)[:2])"
   ]
  },
  {
   "cell_type": "code",
   "execution_count": null,
   "metadata": {},
   "outputs": [],
   "source": [
    "stays.ICD9_CODE.isna().sum(), stays.CPT_CD.isna().sum(), stays.NDC.isna().sum(), stays.ICD9_CODE_PROCEDURE.isna().sum()"
   ]
  },
  {
   "cell_type": "code",
   "execution_count": null,
   "metadata": {},
   "outputs": [],
   "source": [
    "stays = add_age_to_icustays(stays)"
   ]
  },
  {
   "cell_type": "code",
   "execution_count": null,
   "metadata": {},
   "outputs": [],
   "source": [
    "len(set(df_adm.SUBJECT_ID) & set(procedures.SUBJECT_ID))"
   ]
  },
  {
   "cell_type": "code",
   "execution_count": null,
   "metadata": {},
   "outputs": [],
   "source": [
    "len(set(df_adm.SUBJECT_ID) & set(stays.SUBJECT_ID))"
   ]
  },
  {
   "cell_type": "code",
   "execution_count": null,
   "metadata": {},
   "outputs": [],
   "source": [
    "df_adm = pd.merge(\n",
    "        df_adm, stays, on=[\"SUBJECT_ID\", \"HADM_ID\"], how=\"inner\"\n",
    "    )\n",
    "df_adm[\"ADMITTIME_C\"] = df_adm.ADMITTIME.apply(\n",
    "    lambda x: str(x).split(\" \")[0]\n",
    ")\n",
    "df_adm[\"ADMITTIME_C\"] = pd.to_datetime(\n",
    "    df_adm.ADMITTIME_C, format=\"%Y-%m-%d\", errors=\"coerce\"\n",
    ")"
   ]
  },
  {
   "cell_type": "code",
   "execution_count": null,
   "metadata": {},
   "outputs": [],
   "source": [
    "stays.shape"
   ]
  },
  {
   "cell_type": "code",
   "execution_count": null,
   "metadata": {},
   "outputs": [],
   "source": [
    "df_adm.shape"
   ]
  },
  {
   "cell_type": "code",
   "execution_count": null,
   "metadata": {},
   "outputs": [],
   "source": [
    "df_adm.ICD9_CODE.isna().sum(), df_adm.ICD9_CODE_PROCEDURE.isna().sum()"
   ]
  },
  {
   "cell_type": "code",
   "execution_count": null,
   "metadata": {},
   "outputs": [],
   "source": [
    "import itertools\n",
    "def flatten(x):\n",
    "    return itertools.chain.from_iterable(x)"
   ]
  },
  {
   "cell_type": "code",
   "execution_count": null,
   "metadata": {},
   "outputs": [],
   "source": [
    "len(set(flatten(df_adm[\"ICD9_CODE\"].dropna())))"
   ]
  },
  {
   "cell_type": "code",
   "execution_count": null,
   "metadata": {},
   "outputs": [],
   "source": [
    "demographic_cols = {\n",
    "        \"AGE\": [],\n",
    "        \"GENDER\": [],\n",
    "        \"LAST_CAREUNIT\": [],\n",
    "        \"MARITAL_STATUS\": [],\n",
    "        \"ETHNICITY\": [],\n",
    "        \"DISCHARGE_LOCATION\": [],\n",
    "    }\n",
    "df[\"GENDER\"], demographic_cols[\"GENDER\"] = pd.factorize(df[\"GENDER\"])"
   ]
  },
  {
   "cell_type": "markdown",
   "metadata": {},
   "source": [
    "## Code embedding"
   ]
  },
  {
   "cell_type": "code",
   "execution_count": 124,
   "metadata": {},
   "outputs": [
    {
     "name": "stdout",
     "output_type": "stream",
     "text": [
      "removing ICD9_CODE codes occuring less than 5 times. \n",
      " num codes before filter: 6841 after filtering: 3511\n"
     ]
    }
   ],
   "source": [
    "code = \"ICD9_CODE\"\n",
    "diagnoses = read_icd_diagnoses_table()\n",
    "diagnoses = filter_codes(diagnoses, code=code)\n",
    "diagnoses['ICD9_SHORT'] = diagnoses['ICD9_CODE'].apply(lambda x: x[:3])"
   ]
  },
  {
   "cell_type": "code",
   "execution_count": 160,
   "metadata": {},
   "outputs": [],
   "source": [
    "a=set(diagnoses.columns)"
   ]
  },
  {
   "cell_type": "code",
   "execution_count": 159,
   "metadata": {},
   "outputs": [],
   "source": [
    "b=set(['ROW_ID'])"
   ]
  },
  {
   "cell_type": "code",
   "execution_count": 162,
   "metadata": {},
   "outputs": [
    {
     "data": {
      "text/plain": [
       "['HADM_ID',\n",
       " 'ICD9_SHORT',\n",
       " 'ICD9_CODE',\n",
       " 'SEQ_NUM',\n",
       " 'LONG_TITLE',\n",
       " 'SHORT_TITLE',\n",
       " 'SUBJECT_ID']"
      ]
     },
     "execution_count": 162,
     "metadata": {},
     "output_type": "execute_result"
    }
   ],
   "source": [
    "list(a-b)"
   ]
  },
  {
   "cell_type": "code",
   "execution_count": null,
   "metadata": {},
   "outputs": [],
   "source": [
    "procedures = read_icd_procedures_table()\n",
    "procedures = filter_codes(procedures, code=code)\n",
    "procedures['ICD9_PROC_SHORT'] = procedures['ICD9_CODE'].apply(lambda x: str(x)[:2])"
   ]
  },
  {
   "cell_type": "code",
   "execution_count": 17,
   "metadata": {},
   "outputs": [],
   "source": [
    "proc_codes, diag_codes = list(set(procedures['ICD9_PROC_SHORT'])), list(set(diagnoses['ICD9_SHORT']))"
   ]
  },
  {
   "cell_type": "code",
   "execution_count": 18,
   "metadata": {},
   "outputs": [],
   "source": [
    "# establish a mapping from codes to integers\n",
    "map_proc = {}\n",
    "for i, key in enumerate(proc_codes):\n",
    "    map_proc[key] = i\n",
    "procedures['ICD9_PROC_SHORT'] = procedures['ICD9_PROC_SHORT'].apply(lambda x: map_proc[x])"
   ]
  },
  {
   "cell_type": "code",
   "execution_count": 22,
   "metadata": {},
   "outputs": [],
   "source": [
    "map_diag = {}\n",
    "mapping_shift = len(proc_codes) # make sure the mapping will not mix\n",
    "for i, key in enumerate(diag_codes):\n",
    "    map_diag[key] = i + mapping_shift\n",
    "diagnoses['ICD9_SHORT'] = diagnoses['ICD9_SHORT'].apply(lambda x: map_diag[x])"
   ]
  },
  {
   "cell_type": "code",
   "execution_count": 25,
   "metadata": {},
   "outputs": [
    {
     "data": {
      "text/plain": [
       "(87, 722)"
      ]
     },
     "execution_count": 25,
     "metadata": {},
     "output_type": "execute_result"
    }
   ],
   "source": [
    "mapping_shift, len(diag_codes)"
   ]
  },
  {
   "cell_type": "code",
   "execution_count": 23,
   "metadata": {},
   "outputs": [
    {
     "data": {
      "text/plain": [
       "count    627575.000000\n",
       "mean        452.904784\n",
       "std         219.516260\n",
       "min          87.000000\n",
       "25%         247.000000\n",
       "50%         442.000000\n",
       "75%         685.000000\n",
       "max         808.000000\n",
       "Name: ICD9_SHORT, dtype: float64"
      ]
     },
     "execution_count": 23,
     "metadata": {},
     "output_type": "execute_result"
    }
   ],
   "source": [
    "diagnoses['ICD9_SHORT'].describe()"
   ]
  },
  {
   "cell_type": "code",
   "execution_count": 21,
   "metadata": {},
   "outputs": [
    {
     "data": {
      "text/plain": [
       "(480, 1055, 87)"
      ]
     },
     "execution_count": 21,
     "metadata": {},
     "output_type": "execute_result"
    }
   ],
   "source": [
    "len(p1), len(set(procedures['ICD9_CODE'])), len(proc_codes)"
   ]
  },
  {
   "cell_type": "code",
   "execution_count": null,
   "metadata": {},
   "outputs": [],
   "source": [
    "from data_loader.utils.vocab import Vocab\n",
    "cpt_vocab = Vocab()\n",
    "diag_vocab = Vocab()\n",
    "med_vocab = Vocab()\n",
    "proc_vocab = Vocab()\n",
    "diag_vocab._build_from_file(\"vocab/diag.vocab\")\n",
    "cpt_vocab._build_from_file(\"vocab/cpt.vocab\")"
   ]
  },
  {
   "cell_type": "code",
   "execution_count": null,
   "metadata": {},
   "outputs": [],
   "source": [
    "cpt = list(set(cptevents['CPT_CD']))\n",
    "diag = list(set(diagnoses[\"ICD9_CODE\"]))"
   ]
  },
  {
   "cell_type": "code",
   "execution_count": null,
   "metadata": {},
   "outputs": [],
   "source": [
    "ctok = [cpt_vocab.convert_to_ids(str(c), \"C\", False) for c in cpt]"
   ]
  },
  {
   "cell_type": "code",
   "execution_count": null,
   "metadata": {},
   "outputs": [],
   "source": [
    "dtok = [diag_vocab.convert_to_ids(d, \"D\", True) for d in diag]"
   ]
  },
  {
   "cell_type": "code",
   "execution_count": null,
   "metadata": {},
   "outputs": [],
   "source": [
    "pids = list(set(df[\"SUBJECT_ID\"]))"
   ]
  },
  {
   "cell_type": "code",
   "execution_count": null,
   "metadata": {},
   "outputs": [],
   "source": [
    "pid_df = df[df[\"SUBJECT_ID\"] == pids[0]]"
   ]
  },
  {
   "cell_type": "code",
   "execution_count": null,
   "metadata": {},
   "outputs": [],
   "source": [
    "cptevents = group_by_return_col_list(cptevents, [\"SUBJECT_ID\", \"HADM_ID\"], code)"
   ]
  },
  {
   "cell_type": "code",
   "execution_count": null,
   "metadata": {},
   "outputs": [],
   "source": [
    "p1, d1 = set(procedures['ICD9_PROC_SHORT']), set(diagnoses['ICD9_SHORT'])\n",
    "total = list(p1 | d1)\n",
    "dic_map = {}\n",
    "for i, key in enumerate(total):\n",
    "    dic_map[key] = i"
   ]
  },
  {
   "cell_type": "code",
   "execution_count": null,
   "metadata": {},
   "outputs": [],
   "source": [
    "len(dic_map.keys())"
   ]
  },
  {
   "cell_type": "code",
   "execution_count": null,
   "metadata": {},
   "outputs": [],
   "source": [
    "procedures = group_by_return_col_list(\n",
    "        procedures, [\"SUBJECT_ID\", \"HADM_ID\"], 'ICD9_PROC_SHORT'\n",
    "    )\n",
    "diagnoses = group_by_return_col_list(diagnoses, [\"SUBJECT_ID\", \"HADM_ID\"], 'ICD9_SHORT')"
   ]
  },
  {
   "cell_type": "code",
   "execution_count": null,
   "metadata": {},
   "outputs": [],
   "source": [
    "patients = read_patients_table()\n",
    "stays = read_icustays_table()\n",
    "stays = stays.merge(patients, how='inner', left_on=['SUBJECT_ID'], right_on=[\"SUBJECT_ID\"])\n",
    "cols = [\"SUBJECT_ID\", \"HADM_ID\"]\n",
    "stays = stays.merge(diagnoses, how=\"inner\", left_on=cols, right_on=cols)\n",
    "stays = stays.merge(procedures, how=\"inner\", left_on=cols, right_on=cols)\n",
    "stays = add_age_to_icustays(stays)"
   ]
  },
  {
   "cell_type": "code",
   "execution_count": null,
   "metadata": {},
   "outputs": [],
   "source": [
    "df_adm = pd.merge(\n",
    "        df_adm, stays, on=[\"SUBJECT_ID\", \"HADM_ID\"], how=\"inner\"\n",
    "    )"
   ]
  },
  {
   "cell_type": "code",
   "execution_count": null,
   "metadata": {},
   "outputs": [],
   "source": [
    "p1 = tmp['ICD9_PROC_SHORT'].values\n",
    "d1 = tmp['ICD9_SHORT'].values"
   ]
  },
  {
   "cell_type": "code",
   "execution_count": null,
   "metadata": {},
   "outputs": [],
   "source": [
    "c2, u2 = pd.factorize(procedures['ICD9_PROC_SHORT'])"
   ]
  },
  {
   "cell_type": "code",
   "execution_count": null,
   "metadata": {},
   "outputs": [],
   "source": [
    "cols = [\"SUBJECT_ID\", \"HADM_ID\"]\n",
    "tmp = procedures.merge(diagnoses, how='inner', left_on=cols, right_on=cols)"
   ]
  },
  {
   "cell_type": "code",
   "execution_count": null,
   "metadata": {},
   "outputs": [],
   "source": [
    "t = stays[['ICD9_PROC_SHORT', 'ICD9_SHORT']].sum(axis=1)"
   ]
  },
  {
   "cell_type": "code",
   "execution_count": null,
   "metadata": {},
   "outputs": [],
   "source": [
    "df = pd.read_pickle('adm.pkl')"
   ]
  },
  {
   "cell_type": "code",
   "execution_count": null,
   "metadata": {},
   "outputs": [],
   "source": [
    "df.shape, len(set(df['SUBJECT_ID'])), len(set(df['HADM_ID']))"
   ]
  },
  {
   "cell_type": "code",
   "execution_count": null,
   "metadata": {},
   "outputs": [],
   "source": [
    "p1=procedures['ICD9_PROC_SHORT'].apply(lambda x: dic_map[x])"
   ]
  },
  {
   "cell_type": "code",
   "execution_count": null,
   "metadata": {},
   "outputs": [],
   "source": [
    "d1=diagnoses['ICD9_SHORT'].apply(lambda x: dic_map[x])"
   ]
  },
  {
   "cell_type": "code",
   "execution_count": null,
   "metadata": {},
   "outputs": [],
   "source": [
    "set(p1) & set(d1)"
   ]
  },
  {
   "cell_type": "code",
   "execution_count": null,
   "metadata": {},
   "outputs": [],
   "source": [
    "p1[['ICD9_PROC_SHORT', 'ICD9_SHORT']].values.sum(axis=1)"
   ]
  },
  {
   "cell_type": "code",
   "execution_count": null,
   "metadata": {},
   "outputs": [],
   "source": [
    "diagnoses.ICD9_SHORT"
   ]
  },
  {
   "cell_type": "code",
   "execution_count": null,
   "metadata": {},
   "outputs": [],
   "source": [
    "procedures.ICD9_PROC_SHORT"
   ]
  },
  {
   "cell_type": "code",
   "execution_count": 91,
   "metadata": {},
   "outputs": [],
   "source": [
    "import torch\n",
    "import torch.utils.data as data\n",
    "import os\n",
    "import pickle\n",
    "import numpy as np\n",
    "import itertools\n",
    "\n",
    "class SeqCodeDataset(data.Dataset):\n",
    "    def __init__(\n",
    "        self,\n",
    "        data_path,\n",
    "        batch_size,\n",
    "        train=True,\n",
    "        med=False,\n",
    "        diag=False,\n",
    "        proc=False,\n",
    "        split_num=2,\n",
    "    ):\n",
    "        self.proc = proc\n",
    "        self.med = med\n",
    "        self.diag = diag\n",
    "        \n",
    "        self.train = train\n",
    "        self.batch_size = batch_size\n",
    "\n",
    "        self.data = pickle.load(open(os.path.join(data_path, \"data_icd.pkl\"), \"rb\"))\n",
    "        self.data_info = self.data[\"info\"]\n",
    "        self.data = self.data[\"data\"]\n",
    "\n",
    "        data_split_path = os.path.join(\n",
    "            data_path, \"splits\", \"split_{}.pkl\".format(split_num)\n",
    "        )\n",
    "        if os.path.exists(data_split_path):\n",
    "            self.train_idx, self.valid_idx = pickle.load(open(data_split_path, \"rb\"))\n",
    "\n",
    "        self.keys = self._get_keys()\n",
    "\n",
    "        self.max_len = self._findmax_len()\n",
    "\n",
    "        self.num_dcodes = self.data_info['num_icd9_codes']\n",
    "        self.num_pcodes = self.data_info['num_proc_codes']\n",
    "    \n",
    "        self.num_codes = (\n",
    "            self.diag * self.num_dcodes\n",
    "            + self.proc * self.num_pcodes\n",
    "        )\n",
    "\n",
    "        self.demographics_shape = self.data_info[\"demographics_shape\"]\n",
    "\n",
    "    def _gen_idx(self, keys, min_adm=2):\n",
    "        idx = []\n",
    "        for k in keys:\n",
    "            v = self.data[k]\n",
    "            if len(v) < min_adm:\n",
    "                continue\n",
    "            for i, _ in enumerate(v):\n",
    "                idx.append((k, i))\n",
    "        return idx\n",
    "\n",
    "    def _get_keys(self, min_adm=2):\n",
    "        keys = []\n",
    "        for k, v in self.data.items():\n",
    "            if len(v) < min_adm:\n",
    "                continue\n",
    "            keys.append(k)\n",
    "        return keys\n",
    "\n",
    "    def _findmax_len(self):\n",
    "        m = 0\n",
    "        for v in self.data.values():\n",
    "            if len(v) > m:\n",
    "                m = len(v)\n",
    "        return m\n",
    "\n",
    "    def __len__(self):\n",
    "        if self.train:\n",
    "            return len(self.keys)\n",
    "        else:\n",
    "            return 0\n",
    "\n",
    "    def __getitem__(self, k):\n",
    "        x = self.preprocess(self.data[k])\n",
    "        return x\n",
    "\n",
    "    \n",
    "    def preprocess(self, seq):\n",
    "        \"\"\"create one hot vector of idx in seq, with length self.num_codes\n",
    "\n",
    "        Args:\n",
    "            seq: list of ideces where code should be 1\n",
    "\n",
    "        Returns:\n",
    "            x: one hot vector\n",
    "            ivec: vector for learning code representation\n",
    "            jvec: vector for learning code representation\n",
    "        \"\"\"\n",
    "\n",
    "        icd_one_hot = torch.zeros((self.num_codes, self.max_len), dtype=torch.long)\n",
    "        demo_one_hot = torch.zeros((self.demographics_shape, self.max_len), dtype=torch.long)\n",
    "        mask = torch.zeros((self.max_len,), dtype=torch.long)\n",
    "        ivec = []\n",
    "        jvec = []\n",
    "        for i, s in enumerate(seq):\n",
    "            icd = s['icd']\n",
    "            demo = s[\"demographics\"]\n",
    "            l = [\n",
    "                 s[\"diagnoses\"] * self.diag, \n",
    "                 s[\"procedures\"] * self.proc\n",
    "            ]\n",
    "            icd = list(itertools.chain.from_iterable(l))\n",
    "            \n",
    "            icd_one_hot[icd, i] = 1\n",
    "            demo_one_hot[:, i] = torch.Tensor(demo)\n",
    "            mask[i] = 1\n",
    "            for j in icd:\n",
    "                for k in icd:\n",
    "                    if j == k:\n",
    "                        continue\n",
    "                    ivec.append(j)\n",
    "                    jvec.append(k)\n",
    "            print(icd)\n",
    "                \n",
    "        return icd_one_hot.t(), mask, torch.LongTensor(ivec), torch.LongTensor(jvec), demo_one_hot.t()"
   ]
  },
  {
   "cell_type": "code",
   "execution_count": 92,
   "metadata": {},
   "outputs": [],
   "source": [
    "data_path = \"./data/output\"\n",
    "batch_size = 32\n",
    "train = True\n",
    "\n",
    "d = SeqCodeDataset(data_path,\n",
    "                      batch_size,\n",
    "                      diag = True,\n",
    "                      proc = True\n",
    "                  )"
   ]
  },
  {
   "cell_type": "code",
   "execution_count": 93,
   "metadata": {},
   "outputs": [
    {
     "name": "stdout",
     "output_type": "stream",
     "text": [
      "[680, 734, 325, 407, 39, 56, 29]\n",
      "[165, 674, 734, 782, 680, 352, 273, 764, 74, 56, 54]\n"
     ]
    }
   ],
   "source": [
    "x, m, i, j, dx = d.preprocess(d.data[17])"
   ]
  },
  {
   "cell_type": "code",
   "execution_count": 96,
   "metadata": {},
   "outputs": [
    {
     "data": {
      "text/plain": [
       "torch.Size([29, 54])"
      ]
     },
     "execution_count": 96,
     "metadata": {},
     "output_type": "execute_result"
    }
   ],
   "source": [
    "dx.shape"
   ]
  },
  {
   "cell_type": "code",
   "execution_count": 80,
   "metadata": {},
   "outputs": [],
   "source": [
    "with open(\"data/output/splits/split_1.pkl\", \"rb\") as f:\n",
    "    splits = pickle.load(f)"
   ]
  },
  {
   "cell_type": "code",
   "execution_count": 89,
   "metadata": {},
   "outputs": [
    {
     "data": {
      "text/plain": [
       "0.08337452628110067"
      ]
     },
     "execution_count": 89,
     "metadata": {},
     "output_type": "execute_result"
    }
   ],
   "source": [
    "len(splits[1])/(len(splits[0])+len(splits[0]))"
   ]
  },
  {
   "cell_type": "code",
   "execution_count": 116,
   "metadata": {},
   "outputs": [],
   "source": [
    "with open(\"data/output/data_icd.pkl\", \"rb\") as f:\n",
    "    data = pickle.load(f)"
   ]
  },
  {
   "cell_type": "code",
   "execution_count": null,
   "metadata": {},
   "outputs": [],
   "source": [
    "def flatten(x):\n",
    "    return itertools.chain.from_iterable(x)\n",
    "len(set(flatten(df1[\"ICD9_PROC_SHORT\"].dropna()))), len(set(flatten(df1[\"ICD9_SHORT\"].dropna())))"
   ]
  },
  {
   "cell_type": "markdown",
   "metadata": {},
   "source": [
    "## Sequence dataloader for classification"
   ]
  },
  {
   "cell_type": "code",
   "execution_count": 102,
   "metadata": {},
   "outputs": [],
   "source": [
    "import torch\n",
    "import torch.utils.data as data\n",
    "import os\n",
    "import pickle\n",
    "import numpy as np\n",
    "import itertools\n",
    "\n",
    "class SeqClassificationDataset(data.Dataset):\n",
    "    def __init__(\n",
    "        self,\n",
    "        data_path,\n",
    "        batch_size,\n",
    "        y_label=\"los\",\n",
    "        train=True,\n",
    "        balanced_data=False,\n",
    "        validation_split=0.0,\n",
    "        split_num=1,\n",
    "        med=False,\n",
    "        diag=True,\n",
    "        proc=True,\n",
    "        cptcode=False\n",
    "    ):\n",
    "        super(SeqClassificationDataset).__init__()\n",
    "        self.proc = proc\n",
    "        self.med = med\n",
    "        self.diag = diag\n",
    "        self.cpt = cptcode\n",
    "\n",
    "        self.data_path = data_path\n",
    "        self.batch_size = batch_size\n",
    "        self.train = train\n",
    "        self.y_label = y_label\n",
    "        self.validation_split = validation_split\n",
    "        self.balanced_data = balanced_data\n",
    "        self.data = pickle.load(open(os.path.join(self.data_path, \"data_icd.pkl\"), \"rb\"))\n",
    "        self.data_info = self.data[\"info\"]\n",
    "        self.data = self.data[\"data\"]\n",
    "\n",
    "        self.demographics_shape = self.data_info[\"demographics_shape\"]\n",
    "\n",
    "        self.keys = list(map(int, self.data.keys()))\n",
    "        self.max_len = self._findmax_len()\n",
    "\n",
    "        self.num_dcodes = self.data_info['num_icd9_codes']\n",
    "        self.num_pcodes = self.data_info['num_proc_codes']\n",
    "        self.num_mcodes = self.data_info['num_med_codes']\n",
    "        self.num_ccodes = self.data_info['num_cpt_codes']\n",
    "        \n",
    "        self.num_codes = (\n",
    "            self.diag * self.num_dcodes\n",
    "            + self.cpt * self.num_ccodes\n",
    "            + self.proc * self.num_pcodes\n",
    "            + self.med * self.num_mcodes\n",
    "        )  \n",
    "\n",
    "        data_split_path = os.path.join(\n",
    "            self.data_path, \"splits\", \"split_{}.pkl\".format(split_num)\n",
    "        )\n",
    "        if os.path.exists(data_split_path):\n",
    "            self.train_idx, self.valid_idx = pickle.load(open(data_split_path, \"rb\"))\n",
    "            # select patients with at least two admissions\n",
    "            self.train_indices = self._gen_indices(self.train_idx)\n",
    "            self.valid_indices = self._gen_indices(self.valid_idx)\n",
    "            # re-label the patient ID!\n",
    "            # only patients with at least two visits are kept\n",
    "            self.train_idx = np.arange(len(self.train_indices))\n",
    "            self.valid_idx = len(self.train_indices) + np.arange(len(self.valid_indices))\n",
    "\n",
    "            if self.balanced_data:\n",
    "                self.train_idx = self._gen_balanced_indices(self.train_idx)\n",
    "                #self.valid_idx = self._gen_balanced_indices(self.valid_idx)\n",
    "        else:\n",
    "            # TODO: data index logic if train, validation splits are not provided\n",
    "            pass\n",
    "\n",
    "    def _gen_balanced_indices(self, indices):\n",
    "        \"\"\"Generate a balanced set of indices\"\"\"\n",
    "        ind_idx = {}\n",
    "\n",
    "        for idx in indices:\n",
    "            label = self.get_label(idx)\n",
    "            if label not in ind_idx:\n",
    "                ind_idx[label] = [idx]\n",
    "            else:\n",
    "                ind_idx[label].append(idx)\n",
    "\n",
    "        tr = []\n",
    "        te = []\n",
    "\n",
    "        lens = sorted([len(v) for v in ind_idx.values()])\n",
    "\n",
    "        if len(lens) > 3:\n",
    "            num_samples = lens[-2]\n",
    "        else:\n",
    "            num_samples = lens[0]\n",
    "\n",
    "        for v in ind_idx.values():\n",
    "            v = np.asarray(v)\n",
    "\n",
    "            if len(v) > num_samples:\n",
    "                v = v[np.random.choice(np.arange(len(v)), num_samples)]\n",
    "\n",
    "            # train, test = train_test_split(v, test_size=self.validation_split, random_state=1)\n",
    "            # te.append(test)\n",
    "\n",
    "            tr.append(v)\n",
    "\n",
    "        train = np.concatenate(tr)\n",
    "        # test = np.concatenate(te)\n",
    "        return train  # , test\n",
    "\n",
    "    def _gen_indices(self, keys):\n",
    "        indices = []\n",
    "        for k in keys:\n",
    "            v = self.data[k]\n",
    "            for j in range(len(v)):\n",
    "                if (j + 1) == len(v):\n",
    "                    continue\n",
    "                indices.append([k, j + 1])\n",
    "        return indices\n",
    "    \n",
    "    def _findmax_len(self):\n",
    "        \"\"\"Find the max number of visits of any patients\n",
    "\n",
    "        Returns:\n",
    "            [int]: the max number of visits\n",
    "        \"\"\"        \n",
    "        m = 0\n",
    "        for v in self.data.values():\n",
    "            if len(v) > m:\n",
    "                m = len(v)\n",
    "        return m\n",
    "\n",
    "    def __getitem__(self, index):\n",
    "        if index in self.train_idx:\n",
    "            idx = self.train_indices[index]\n",
    "        else:\n",
    "            idx = self.valid_indices[index - len(self.train_indices)]\n",
    "        x = self.preprocess(idx)\n",
    "        return x\n",
    "\n",
    "    def preprocess(self, idx):\n",
    "        \"\"\"n: total # of visits per each patients minus one\n",
    "            it's also the index for the last visits for extracting label y[n]\n",
    "        Args:\n",
    "            idx ([type]): [description]\n",
    "\n",
    "        Returns:\n",
    "            [type]: [description]\n",
    "        \"\"\"        \n",
    "        seq = self.data[idx[0]]\n",
    "        n = idx[1]\n",
    "        x_codes = torch.zeros((self.num_codes, self.max_len), dtype=torch.float)\n",
    "        demo = torch.Tensor(seq[n][\"demographics\"])\n",
    "        for i in range(n):\n",
    "            if (i + 1) == len(seq):\n",
    "                continue\n",
    "            s = seq[i]   \n",
    "            codes = [\n",
    "                 s[\"diagnoses\"] * self.diag, \n",
    "                 s[\"procedures\"] * self.proc\n",
    "            ]\n",
    "            codes = list(itertools.chain.from_iterable(codes))\n",
    "            x_codes[codes, i] = 1\n",
    "\n",
    "        x_cl = torch.Tensor(\n",
    "            [\n",
    "                n,\n",
    "            ]\n",
    "        )\n",
    "       \n",
    "        if self.y_label == \"los\":\n",
    "            los = seq[n][\"los\"]\n",
    "            if los != los:\n",
    "                los = 9\n",
    "            y = torch.Tensor([los - 1])\n",
    "        elif self.y_label == \"readmission\":\n",
    "            y = torch.Tensor([seq[n][\"readmission\"]])\n",
    "        else:\n",
    "            y = torch.Tensor([seq[n][\"mortality\"]])\n",
    "\n",
    "        return (x_codes.t(), x_cl, demo, y)\n",
    "\n",
    "    def get_label(self, idx):\n",
    "        if idx in self.train_idx:\n",
    "            idx = self.train_indices[idx]\n",
    "        else:\n",
    "            idx = self.valid_indices[idx - len(self.train_indices)]\n",
    "        seq = self.data[idx[0]]\n",
    "        n = idx[1]\n",
    "        if self.y_label == \"los\":\n",
    "            los = seq[n][\"los\"]\n",
    "            if los != los:\n",
    "                los = 9\n",
    "            y = torch.Tensor([los - 1])\n",
    "        elif self.y_label == \"readmission\":\n",
    "            y = torch.Tensor([seq[n][\"readmission\"]])\n",
    "        else:\n",
    "            y = torch.Tensor([seq[n][\"mortality\"]])\n",
    "        y = y.item()\n",
    "        return y\n",
    "\n",
    "    def __len__(self):\n",
    "        l = 0\n",
    "        if self.train:\n",
    "            l = len(self.train_idx)\n",
    "        else:\n",
    "            l = len(self.valid_idx)\n",
    "\n",
    "        return l\n",
    "\n",
    "def collate_fn(data):\n",
    "    x_codes, x_cl,  demo, y_code = zip(*data)\n",
    "    x_codes = torch.stack(x_codes, dim=1)\n",
    "    demo = torch.stack(demo, dim=0)\n",
    "    y_code = torch.stack(y_code, dim=1).long()\n",
    "    x_cl = torch.stack(x_cl, dim=0).long()\n",
    "    b_is = torch.arange(x_cl.shape[0]).reshape(tuple(x_cl.shape)).long()\n",
    "    return (\n",
    "        x_codes,\n",
    "        x_cl.squeeze(),\n",
    "        b_is.squeeze(),\n",
    "        demo,\n",
    "    ), y_code.squeeze()"
   ]
  },
  {
   "cell_type": "code",
   "execution_count": 103,
   "metadata": {},
   "outputs": [],
   "source": [
    "data_path = \"./data/output\"\n",
    "batch_size = 32\n",
    "train = True\n",
    "\n",
    "d = SeqClassificationDataset(data_path,\n",
    "                      batch_size,\n",
    "                      y_label=\"mortality\",\n",
    "                      diag = True,\n",
    "                      proc = True\n",
    "                  )"
   ]
  },
  {
   "cell_type": "code",
   "execution_count": 118,
   "metadata": {
    "collapsed": true,
    "jupyter": {
     "outputs_hidden": true
    }
   },
   "outputs": [
    {
     "data": {
      "text/plain": [
       "dict_keys([32775, 17, 32786, 21, 65558, 32790, 23, 32789, 32791, 32797, 98336, 34, 36, 32805, 98342, 32809, 32810, 98347, 65582, 65594, 61, 67, 68, 98385, 84, 85, 65623, 94, 103, 107, 109, 111, 112, 117, 124, 65665, 130, 138, 145, 154, 156, 157, 65703, 65710, 175, 177, 98481, 184, 188, 98494, 191, 198, 199, 203, 209, 211, 98518, 222, 65759, 231, 234, 236, 65779, 249, 98554, 252, 256, 283, 286, 287, 65824, 98593, 291, 65833, 298, 305, 307, 98622, 321, 323, 65861, 328, 330, 65871, 339, 346, 352, 353, 356, 357, 361, 98666, 362, 368, 65906, 376, 384, 65925, 394, 395, 402, 406, 417, 65954, 419, 65956, 423, 65959, 426, 433, 434, 65973, 98744, 65979, 65982, 450, 452, 98759, 98761, 65994, 66015, 502, 505, 507, 98813, 510, 518, 523, 98829, 66061, 530, 66079, 546, 98853, 550, 554, 66093, 66095, 98864, 576, 580, 98887, 98905, 605, 66151, 98920, 618, 66157, 66158, 98930, 98931, 629, 630, 631, 634, 66172, 638, 653, 665, 98973, 674, 679, 689, 98994, 690, 695, 703, 66244, 711, 720, 66256, 721, 725, 66264, 728, 731, 735, 745, 747, 99054, 755, 757, 66298, 66307, 771, 773, 776, 779, 99085, 782, 781, 787, 99096, 794, 796, 99102, 801, 66338, 804, 805, 807, 808, 99120, 820, 822, 824, 832, 835, 843, 66384, 849, 852, 854, 99166, 863, 66405, 99178, 66412, 878, 99185, 885, 890, 894, 899, 902, 904, 907, 914, 923, 924, 99231, 937, 945, 946, 947, 948, 949, 952, 99260, 959, 963, 99268, 969, 66505, 66507, 975, 984, 995, 66532, 998, 1004, 1006, 99312, 99322, 1018, 1029, 99339, 1042, 99346, 1044, 1050, 99361, 66596, 1062, 66604, 1069, 1076, 99383, 99384, 1084, 1086, 1093, 66637, 99408, 1106, 1121, 1124, 1134, 99439, 1136, 1137, 1135, 1141, 1148, 66688, 1158, 1160, 99464, 99469, 1180, 1183, 1186, 66723, 1187, 1192, 1197, 1203, 1207, 66745, 1220, 66761, 1226, 99538, 1241, 99556, 1257, 99562, 1271, 66818, 1283, 1286, 66825, 66831, 1301, 99613, 1313, 1331, 1332, 1339, 99647, 1344, 99650, 1347, 1351, 1354, 99660, 1357, 66899, 66919, 1386, 1397, 1399, 1401, 99712, 1419, 66957, 1423, 1439, 1441, 1442, 66988, 1453, 99756, 1459, 1474, 99781, 1478, 99783, 67017, 1485, 1488, 1493, 1498, 67050, 1516, 1517, 99822, 67060, 1527, 1528, 1530, 67067, 67070, 1535, 1544, 1550, 1552, 1563, 1569, 1571, 67112, 1578, 1579, 99883, 1590, 1594, 67134, 1604, 1606, 1610, 1611, 67150, 1616, 67154, 99923, 1620, 1621, 67164, 1629, 67172, 1636, 67206, 1673, 67209, 99982, 1679, 1699, 1701, 67239, 67241, 1709, 1727, 67265, 67281, 1757, 67301, 1767, 1778, 1784, 1787, 1802, 1804, 67344, 1811, 67348, 1816, 1819, 1840, 67384, 1855, 1858, 1860, 1863, 1872, 67426, 1893, 1899, 1900, 1901, 1915, 67460, 1931, 1935, 1936, 67473, 1944, 67481, 1949, 1967, 1972, 1973, 67512, 1982, 1985, 1986, 1988, 1991, 67527, 1995, 1999, 2005, 2015, 2018, 2021, 2025, 2029, 2034, 2040, 67579, 2045, 2049, 2081, 67617, 67624, 2090, 2092, 2093, 2100, 2116, 2124, 2135, 2136, 67683, 2150, 2165, 67711, 67719, 2185, 2187, 67735, 2208, 67744, 2215, 2222, 2223, 2224, 2240, 2245, 2258, 2263, 2264, 2265, 2268, 2280, 2284, 2298, 67835, 2310, 2322, 2333, 2338, 2341, 2343, 2349, 67887, 2361, 2365, 2369, 67906, 2371, 67910, 2378, 2385, 2387, 2388, 67924, 2394, 2397, 2415, 2420, 67956, 2422, 2423, 2425, 2427, 2442, 67987, 2452, 2460, 2464, 2467, 2473, 2477, 2479, 2482, 2486, 2512, 2513, 68059, 68065, 2530, 2539, 2550, 68089, 2558, 2561, 68099, 68103, 2577, 2582, 2586, 68123, 2589, 2590, 68127, 2592, 2598, 68135, 68140, 2611, 2619, 2622, 2625, 2636, 2639, 68184, 2649, 68186, 2652, 2658, 2664, 2666, 2667, 68218, 2682, 68221, 2710, 2712, 68251, 2718, 2733, 2740, 2743, 2747, 2759, 68295, 2763, 68301, 2775, 2784, 2786, 2800, 2809, 2813, 2819, 68356, 2825, 2828, 2830, 2846, 68389, 68391, 68401, 2876, 2885, 68433, 2905, 68453, 2919, 68457, 2921, 2953, 2973, 2974, 2975, 2984, 2990, 2997, 3011, 3019, 3024, 3026, 68564, 3029, 3036, 3042, 68579, 3045, 3052, 3065, 68605, 3070, 3078, 3084, 3100, 3123, 3127, 3132, 3133, 3143, 3145, 3154, 3155, 68699, 68702, 68704, 68709, 3178, 3180, 3181, 3184, 3191, 3196, 3210, 3214, 3216, 3217, 3218, 3222, 3225, 68764, 3234, 3242, 68780, 68785, 3250, 3267, 3268, 3272, 3278, 3280, 3283, 3286, 3306, 3318, 3319, 68867, 3333, 68870, 3347, 3357, 3362, 68900, 3365, 68905, 3369, 3371, 3377, 68915, 3386, 3392, 3393, 3403, 3404, 68944, 68946, 3417, 68956, 3425, 3426, 3433, 3436, 3437, 3456, 3460, 69000, 3466, 69011, 3481, 3482, 3490, 3491, 3497, 3506, 69047, 3513, 3516, 3523, 3533, 3543, 3559, 69098, 3566, 3575, 3588, 3593, 3598, 3600, 3602, 69144, 3623, 3632, 69169, 3633, 3639, 3644, 3649, 3657, 69194, 3674, 3676, 3678, 3685, 69225, 3700, 69237, 3703, 3705, 3722, 3728, 69265, 3734, 69271, 69272, 3742, 3746, 3748, 69293, 69295, 3765, 3768, 3771, 69323, 3788, 3790, 3792, 69328, 3793, 3796, 3800, 69338, 69344, 69354, 3818, 69359, 3830, 3841, 3851, 3860, 3862, 69398, 3866, 3868, 3874, 3876, 3883, 3895, 69433, 69438, 3903, 69447, 3911, 3914, 3917, 3926, 3929, 3935, 3939, 3940, 69483, 3949, 3952, 3956, 3969, 3974, 3977, 3980, 3984, 3987, 69531, 3995, 3999, 4002, 4004, 4016, 4023, 4030, 69578, 4058, 4059, 4063, 4064, 4071, 4074, 4076, 4084, 4094, 4096, 4101, 4103, 4104, 4109, 4113, 4115, 4118, 69654, 4126, 4137, 4140, 4155, 4159, 4166, 69713, 4180, 4187, 69745, 69761, 69766, 4239, 69776, 4240, 4264, 4267, 4268, 69806, 4271, 4275, 4290, 4292, 4313, 69851, 4316, 4317, 69855, 69857, 4328, 4329, 4334, 4346, 4351, 4367, 69904, 69912, 4386, 4390, 4392, 4394, 4397, 4401, 4405, 4406, 4410, 4423, 4427, 4448, 4454, 4456, 4458, 69995, 4467, 70004, 4495, 4506, 4520, 4521, 4527, 4535, 70078, 70080, 4555, 4566, 4570, 4571, 4574, 4577, 4587, 4588, 4592, 4599, 4602, 4609, 4618, 4631, 4635, 4641, 4644, 70180, 70188, 70191, 4655, 4664, 4675, 4676, 4679, 4685, 4688, 70226, 4690, 4696, 4700, 4708, 4713, 4714, 70252, 4718, 70267, 4741, 4749, 4765, 4766, 4770, 70313, 4784, 4785, 4787, 4788, 4791, 70330, 4796, 4816, 70355, 4826, 4833, 4836, 4843, 70386, 4871, 4873, 4883, 4893, 70433, 4900, 4904, 4905, 4906, 70445, 4910, 4915, 4916, 4918, 4924, 4929, 70469, 70476, 70485, 4949, 4951, 4954, 4958, 70494, 4962, 70500, 4966, 4968, 70516, 4985, 70521, 5008, 5018, 70558, 70563, 5030, 5031, 5032, 5049, 5050, 70587, 5051, 5058, 5060, 5071, 5072, 5074, 5077, 5078, 5096, 5099, 5107, 70645, 5124, 5138, 5139, 5142, 5150, 5158, 5161, 5163, 5166, 5170, 5171, 70709, 5183, 70728, 5193, 5195, 5196, 5199, 5205, 70745, 5215, 5231, 70772, 5239, 5242, 5244, 5246, 5247, 5259, 70807, 5278, 5282, 5285, 5289, 70842, 70851, 70854, 5319, 5321, 5328, 5330, 5336, 5343, 5348, 5349, 70886, 70890, 5362, 5369, 5370, 70907, 5382, 5384, 5389, 5392, 5393, 5397, 5398, 5400, 70937, 5403, 5406, 5410, 5448, 5453, 70989, 5460, 5476, 71012, 5481, 5491, 5494, 5495, 5506, 71054, 5525, 5527, 5528, 5535, 5542, 5544, 71083, 71084, 5555, 5561, 5564, 5570, 71107, 71108, 5573, 5581, 71130, 5596, 5598, 5604, 71146, 5611, 5617, 5619, 5620, 5622, 5637, 71177, 5643, 5645, 71184, 71190, 71192, 71194, 5658, 5662, 5665, 5666, 5675, 5679, 71220, 5685, 5689, 5691, 5692, 5696, 71244, 5709, 5710, 5712, 5727, 71277, 5752, 5760, 5761, 5766, 5768, 5771, 5772, 5774, 5783, 5786, 5790, 5791, 5794, 5795, 71336, 5801, 5806, 5816, 5818, 5819, 5820, 5824, 5827, 5830, 5832, 71369, 5839, 5841, 71377, 5844, 5850, 71397, 5865, 5866, 5867, 5874, 5882, 5885, 5897, 5901, 5904, 5908, 5909, 5910, 5911, 5913, 5928, 5935, 5937, 5944, 71483, 5950, 5954, 5958, 5962, 5978, 5979, 71527, 6001, 6005, 6008, 6020, 6024, 6038, 6055, 6061, 6063, 71603, 6069, 6079, 6082, 6085, 6086, 6088, 6090, 6098, 71645, 6113, 6116, 6124, 6131, 6145, 6147, 6155, 6156, 6158, 6160, 6166, 6171, 71707, 6174, 6176, 6202, 6206, 6212, 6214, 6228, 6234, 71774, 6255, 6258, 6262, 6272, 6273, 6279, 6283, 71825, 71848, 6317, 6331, 71871, 71878, 6349, 6353, 6358, 6359, 6365, 6378, 71921, 6398, 71962, 6428, 6432, 6437, 6440, 6447, 6448, 6451, 6464, 72000, 6466, 6470, 6481, 6488, 72033, 6497, 72043, 6510, 6526, 6533, 6534, 72073, 6537, 6540, 6541, 6542, 6543, 6545, 72083, 6552, 6566, 6571, 6575, 72113, 6579, 6589, 6598, 6603, 6604, 72147, 6621, 72163, 6630, 6632, 6638, 6653, 72196, 72197, 6667, 6675, 6681, 6685, 6692, 72230, 72233, 6697, 6700, 6702, 6706, 6707, 6709, 6710, 6711, 6718, 6720, 6736, 6749, 6755, 6756, 6760, 72308, 6783, 6787, 72329, 6805, 6809, 72353, 72354, 6824, 6828, 6829, 6833, 6838, 6841, 6849, 6850, 6856, 6863, 6871, 6878, 6884, 6891, 6892, 6894, 6901, 6908, 72447, 6912, 6914, 6917, 6920, 6930, 6939, 6942, 72482, 6950, 6952, 6953, 6954, 6955, 6958, 6960, 6962, 6973, 6976, 6978, 6983, 6988, 6996, 72536, 72541, 7009, 72545, 7013, 7036, 72582, 7051, 7059, 7066, 7094, 7095, 7101, 7102, 7103, 7105, 7107, 7118, 7125, 7138, 7142, 72678, 7155, 7159, 7161, 7169, 72707, 7175, 7180, 7181, 7184, 7187, 7188, 72725, 7192, 7210, 7216, 72753, 7223, 7224, 7225, 7229, 7230, 7232, 40000, 7234, 7235, 7241, 7246, 7247, 7251, 7253, 72790, 7254, 7260, 7262, 7275, 7284, 7289, 40057, 40059, 7299, 7301, 72844, 7309, 40078, 72847, 7323, 40094, 7326, 7328, 7327, 7338, 7339, 72885, 40120, 7354, 40124, 7357, 7359, 7363, 7371, 7373, 72914, 7382, 72924, 7389, 7391, 7393, 72930, 7402, 72940, 40179, 7413, 7427, 7429, 72969, 72978, 7445, 7449, 7452, 72992, 40236, 7475, 7476, 7477, 7478, 7482, 7487, 7492, 7494, 73043, 7511, 7514, 7517, 73058, 7522, 7529, 7533, 7534, 7539, 40310, 7544, 73081, 7546, 7552, 7554, 7558, 40337, 7574, 7585, 7589, 73126, 73129, 7595, 7607, 73143, 7612, 7613, 7614, 7616, 7618, 40388, 7621, 7629, 7632, 40405, 7648, 7650, 73186, 7654, 73200, 7665, 7666, 40435, 7668, 73206, 7671, 73211, 7676, 7681, 7686, 40461, 7695, 40464, 40463, 7698, 7702, 73242, 40474, 7706, 7709, 73249, 7718, 7726, 7731, 7752, 7755, 7756, 40526, 7774, 7778, 40546, 7784, 73322, 7787, 7786, 7798, 7799, 7804, 7805, 40576, 7809, 7808, 40577, 7815, 7816, 73358, 7830, 73370, 73385, 7853, 7866, 7871, 73409, 7880, 73417, 7883, 7884, 7900, 7908, 73454, 40695, 40697, 7930, 7936, 40708, 7946, 7951, 73488, 7955, 7958, 40729, 7965, 7968, 7973, 73509, 7979, 7985, 7995, 7996, 8006, 40775, 8018, 8024, 73565, 73572, 8037, 73575, 73579, 40822, 8057, 8060, 8068, 40837, 8070, 8071, 8072, 8073, 8075, 73612, 8081, 40851, 8086, 8103, 8105, 8109, 8110, 73645, 73648, 8114, 8115, 40883, 8120, 40900, 40904, 73673, 40911, 8145, 73686, 8154, 40923, 8156, 8163, 40934, 8167, 73713, 8188, 8209, 8217, 73755, 8222, 8224, 8228, 8231, 73770, 41004, 8238, 8251, 41024, 8258, 41034, 41035, 8267, 8273, 8283, 8296, 41077, 8309, 8314, 8323, 8337, 73877, 8344, 41115, 41121, 8364, 8370, 8374, 8389, 8393, 73941, 8406, 73946, 8411, 41182, 8414, 41192, 8426, 8427, 8431, 8432, 73973, 73979, 8445, 8447, 41216, 41217, 8450, 8452, 8463, 8464, 74001, 74002, 8467, 8471, 8472, 74016, 8481, 8489, 8492, 8493, 74032, 8498, 8501, 8505, 8507, 74046, 8513, 8519, 8532, 8533, 8543, 74081, 8546, 8548, 8551, 8556, 8558, 8559, 8569, 8581, 41350, 41359, 8597, 41373, 74144, 8608, 8619, 8631, 8654, 8662, 41430, 8665, 8668, 8670, 8674, 8675, 41446, 8678, 41448, 8682, 74220, 8686, 74223, 8695, 74232, 8697, 8698, 8714, 74252, 8734, 8735, 41515, 74289, 8775, 8780, 8786, 8789, 8790, 8795, 8798, 8799, 8800, 8803, 74346, 74353, 8818, 8822, 41603, 8845, 8850, 41621, 8869, 8870, 41639, 8876, 8887, 74426, 8896, 8900, 74438, 74444, 8914, 41682, 8917, 74456, 8921, 74463, 41702, 8936, 74482, 8947, 8948, 41719, 41724, 74493, 74504, 8978, 74514, 8984, 8985, 8989, 8990, 8992, 8995, 8996, 74533, 41768, 9002, 9003, 9013, 9016, 74554, 74562, 41795, 9030, 9032, 9035, 9036, 9044, 9054, 9056, 9058, 9061, 9064, 9070, 74626, 74627, 9090, 74630, 9096, 74632, 9101, 74639, 41875, 9128, 41897, 9132, 41902, 9137, 74674, 9141, 74677, 9144, 74687, 9155, 74693, 9161, 74711, 41943, 41945, 9177, 9186, 74725, 41958, 41966, 9206, 41976, 9216, 9224, 9227, 9233, 9248, 9249, 9251, 9253, 9256, 9261, 9263, 9266, 42035, 9267, 9271, 9272, 9274, 9278, 74816, 74817, 74821, 42054, 42055, 42058, 74835, 42067, 9302, 9304, 42073, 9311, 9319, 74857, 9324, 9330, 9331, 9339, 9341, 74880, 9356, 74894, 42129, 9363, 9364, 42135, 9377, 9385, 74924, 9393, 9395, 74935, 9402, 9403, 9407, 9412, 42180, 74955, 42196, 9428, 9434, 74976, 42210, 9443, 9453, 9454, 9457, 9473, 9480, 9481, 9484, 9486, 75027, 9498, 9505, 9517, 9518, 75054, 75071, 9539, 9540, 42310, 9544, 9545, 9547, 9555, 42327, 9561, 75100, 9571, 9575, 9576, 42346, 42351, 9584, 9602, 75155, 9622, 42400, 9635, 9640, 42410, 75188, 75194, 75201, 9667, 9672, 9673, 9676, 9686, 75223, 9688, 42468, 9702, 9706, 9710, 75249, 9714, 75251, 9718, 42492, 9725, 9727, 9736, 9750, 9753, 42525, 9763, 75300, 9768, 75305, 9778, 75315, 9782, 75320, 9787, 9791, 9795, 75335, 9805, 42574, 9810, 42583, 9818, 9822, 9823, 9828, 9829, 9838, 42606, 9855, 9856, 75393, 9862, 9863, 75401, 9865, 9871, 9873, 9882, 75420, 9887, 9889, 9891, 9895, 9896, 9897, 9900, 9902, 9906, 75451, 42683, 75454, 9920, 9923, 42694, 42697, 9930, 9933, 42715, 9954, 9957, 75493, 9962, 9965, 9966, 9967, 9968, 9969, 75509, 75510, 9973, 9976, 9981, 9982, 9984, 42763, 9998, 75536, 10004, 42780, 75557, 42794, 75581, 75586, 42820, 10059, 10071, 75609, 42851, 10088, 42858, 10094, 75631, 10117, 10119, 75658, 42892, 10124, 75666, 75668, 10134, 10144, 10149, 42919, 10152, 10160, 42929, 10168, 10174, 10188, 10197, 42970, 75741, 10206, 10207, 10220, 10222, 10224, 10226, 42995, 10236, 75772, 10246, 10247, 10248, 75782, 10251, 10254, 10257, 75796, 10262, 10272, 10277, 75824, 75830, 43067, 10301, 10302, 10303, 10304, 10305, 10310, 10315, 43084, 10328, 75867, 43112, 75883, 43121, 43122, 43126, 43128, 75899, 10369, 10375, 10377, 43147, 10386, 10390, 10394, 10395, 10399, 10414, 10416, 10417, 43186, 10422, 10423, 10425, 10428, 10434, 10446, 76001, 76005, 10471, 76012, 10478, 10487, 76028, 10502, 10510, 10512, 10515, 10525, 10531, 10532, 43305, 43320, 43323, 43325, 10560, 10569, 10581, 10589, 10594, 10595, 76134, 43367, 10604, 10612, 76151, 10623, 10624, 76165, 10634, 10635, 10637, 76174, 10642, 76186, 10653, 10655, 76193, 76196, 76203, 10668, 43439, 10675, 10676, 10677, 10679, 76222, 10687, 43456, 10689, 10686, 43459, 10694, 43472, 10704, 76240, 43478, 10712, 43484, 10721, 76261, 10725, 43501, 10736, 10742, 76282, 10751, 10753, 10757, 43529, 10774, 43551, 76327, 43561, 10799, 10806, 10809, 10811, 10814, 10820, 43589, 43599, 10832, 10833, 10835, 10852, 10854, 76390, 10859, 10861, 76418, 10884, 10886, 43656, 76435, 43673, 10906, 76446, 10914, 10916, 76459, 10924, 10925, 10928, 10939, 76476, 76477, 76479, 10947, 10948, 10950, 10954, 10957, 10972, 10973, 10976, 10992, 76529, 11003, 11007, 11018, 11019, 11021, 76558, 11032, 43803, 11043, 43812, 11049, 11050, 76594, 11061, 11066, 76602, 11076, 11077, 11085, 11090, 11098, 11099, 11108, 11109, 76646, 43881, 76652, 76654, 11123, 11135, 11138, 11143, 43911, 11146, 11147, 76695, 76697, 76698, 11162, 11165, 43937, 11171, 43943, 43946, 43961, 11195, 76732, 11202, 11205, 11212, 43982, 11216, 43991, 76760, 11229, 11234, 11235, 11236, 11242, 76780, 11245, 76782, 11255, 76797, 76800, 76803, 11280, 11285, 11287, 11288, 44061, 11295, 44064, 76835, 44083, 76853, 11318, 11317, 11321, 11323, 11328, 11335, 11338, 11339, 11341, 11342, 11343, 11346, 11348, 11362, 11369, 11372, 11382, 76930, 11395, 11421, 11427, 11432, 11438, 44206, 11442, 11446, 11448, 76994, 11460, 11464, 44232, 11470, 11473, 11474, 11477, 44245, 11479, 44248, 77019, 11486, 44265, 77037, 11505, 44277, 11512, 77053, 11519, 11526, 77067, 44300, 11537, 11554, 44326, 11559, 11563, 11567, 11585, 11587, 11588, 11590, 77129, 11595, 77135, 11604, 11608, 11610, 77148, 77149, 11618, 11623, 77163, 11634, 11638, 44408, 11643, 11646, 11656, 11667, 11671, 11674, 11677, 44451, 77220, 11693, 44464, 11700, 11702, 11708, 11710, 11716, 44486, 11722, 11723, 77259, 11728, 77265, 11735, 44508, 11740, 77280, 11745, 44521, 11755, 11756, 11760, 11762, 44530, 11764, 11763, 11766, 11767, 11785, 11787, 77330, 11795, 44570, 77341, 11809, 77349, 11815, 77352, 11818, 11825, 11826, 44602, 11838, 11842, 11844, 77383, 11850, 44622, 77395, 11860, 11861, 11862, 11859, 11870, 11876, 11877, 77413, 11880, 11885, 77427, 11892, 11897, 77436, 11901, 77443, 11908, 11912, 11920, 11923, 11932, 77469, 77471, 77478, 77480, 11944, 44715, 77484, 11950, 77487, 11952, 11957, 44735, 44741, 77511, 11981, 44751, 77527, 11993, 12000, 12003, 12008, 12013, 12014, 44787, 12020, 44793, 12026, 12028, 44799, 12039, 12048, 12065, 12070, 44841, 12076, 12077, 77614, 12081, 44851, 12087, 12091, 12104, 12108, 12110, 12113, 12122, 44890, 77660, 12125, 77661, 12132, 12136, 77673, 77676, 12140, 12142, 12149, 12150, 12154, 12157, 12164, 12167, 44941, 12183, 12187, 12188, 12192, 12198, 77734, 12203, 77746, 12233, 12234, 77771, 12249, 12253, 12267, 12272, 12274, 77815, 77816, 12281, 12289, 12292, 77836, 12302, 12306, 77842, 12310, 12312, 45092, 12330, 12337, 12340, 12342, 12344, 12346, 12351, 45124, 12360, 12361, 77900, 12365, 12367, 12387, 77924, 12401, 12403, 45176, 12408, 12410, 12411, 12412, 12413, 77947, 77951, 45180, 77980, 45213, 12446, 12450, 77987, 45232, 12467, 12472, 12498, 45269, 12501, 45273, 12508, 45280, 12530, 12532, 12540, 45309, 12542, 45310, 78076, 12551, 45321, 12564, 78100, 12567, 45339, 12573, 45344, 12581, 12582, 12589, 12599, 12607, 12613, 12623, 45395, 12631, 12634, 45407, 45410, 45426, 12659, 12660, 45431, 78215, 12690, 12693, 12697, 78238, 12706, 12709, 12712, 12713, 12720, 12730, 12733, 12736, 12739, 45509, 12741, 12746, 12769, 12770, 12773, 12776, 12779, 78318, 12788, 12795, 12797, 45566, 12799, 12798, 12805, 78342, 45576, 12810, 12819, 45589, 12829, 12830, 12831, 12834, 12837, 45608, 78380, 12849, 78388, 12856, 12858, 12875, 12878, 78419, 45655, 12896, 12902, 12905, 12914, 45684, 78454, 12920, 12927, 12937, 12938, 12940, 78481, 12945, 12952, 12954, 45736, 78504, 78506, 12982, 12984, 12987, 12993, 78536, 45783, 78565, 45801, 13033, 13036, 13052, 13055, 45835, 13072, 13074, 13080, 13086, 13101, 78641, 13110, 13123, 45910, 13144, 45914, 78685, 78701, 78704, 78705, 78708, 13174, 13179, 78716, 13181, 13183, 13185, 13192, 13203, 13208, 13212, 13214, 13217, 45985, 78782, 13252, 13253, 13258, 13259, 46028, 13262, 13265, 78801, 13267, 46034, 78814, 13289, 46057, 13293, 13305, 13306, 13308, 46077, 46081, 13316, 13318, 13329, 13330, 46105, 13355, 78892, 78895, 46127, 13373, 13401, 13405, 13406, 13408, 78946, 13413, 13419, 13422, 13428, 78966, 13431, 13436, 46205, 13440, 13451, 13455, 13459, 78996, 46228, 13463, 79002, 13476, 13477, 79015, 46251, 13486, 46260, 13494, 79038, 79050, 79051, 13514, 46287, 13528, 13536, 13542, 13543, 13552, 79090, 13559, 13562, 13564, 79100, 46339, 13579, 46355, 13589, 79126, 13593, 13599, 46373, 13615, 13618, 13622, 13625, 13627, 13628, 13634, 13636, 13640, 13641, 46411, 13644, 13648, 13657, 13664, 13666, 13686, 46467, 13699, 13702, 13705, 13714, 46487, 13719, 13725, 79262, 46497, 13733, 13735, 13740, 79288, 46521, 79294, 46527, 13761, 13776, 13778, 13794, 13796, 46566, 46569, 13806, 13807, 79348, 13816, 46586, 46588, 13830, 13835, 13837, 13839, 13852, 13855, 13856, 13861, 13864, 13867, 13868, 13881, 13882, 13890, 46668, 13902, 13906, 13913, 13920, 13922, 13932, 13935, 13936, 13941, 13944, 13948, 13960, 46733, 13965, 13978, 46755, 13993, 13998, 14002, 79539, 14008, 46781, 79556, 79564, 14031, 14038, 79576, 14041, 46809, 46815, 14048, 79585, 14060, 14061, 79602, 46836, 46845, 14078, 14082, 46851, 14085, 46854, 14087, 14093, 14094, 14098, 14100, 14101, 14104, 14106, 14109, 79645, 14114, 79651, 14116, 46889, 14131, 46904, 14154, 46926, 46934, 79709, 46943, 14176, 14183, 14190, 14193, 14197, 79735, 14205, 14217, 14219, 14230, 14240, 14245, 14253, 14256, 79795, 14263, 47035, 79804, 14269, 47045, 14279, 14291, 14297, 79836, 14300, 14313, 79851, 14316, 14321, 14328, 14329, 14330, 14332, 14334, 79873, 14342, 14348, 47118, 47127, 14363, 79900, 47137, 79909, 14381, 79923, 14391, 14393, 79931, 14405, 14412, 14416, 14423, 14427, 14432, 79977, 47216, 47219, 14458, 47226, 14461, 79998, 14467, 47240, 14472, 14475, 14478, 80015, 47257, 14498, 47271, 80041, 80046, 14510, 14516, 14517, 14520, 80081, 47326, 14565, 14566, 14567, 14568, 80105, 14579, 14582, 14585, 14597, 14598, 14603, 14606, 14607, 14611, 14617, 14621, 14622, 80163, 14633, 14634, 14646, 14651, 47430, 14667, 14669, 14672, 47450, 80237, 14701, 14703, 14705, 14711, 14714, 14716, 80260, 47492, 14738, 80274, 14741, 14749, 80286, 80287, 14755, 14757, 14761, 80298, 14768, 80305, 80308, 47543, 80313, 14777, 14788, 47556, 47569, 80342, 80350, 14822, 14824, 14828, 80369, 14835, 14836, 14837, 14841, 14855, 14858, 14862, 14873, 14885, 14887, 80423, 14898, 14909, 47677, 14914, 47683, 14922, 14950, 14953, 80490, 47731, 47733, 80511, 14975, 47747, 47748, 14983, 14987, 47758, 14990, 80536, 15003, 47775, 80547, 15012, 15017, 47785, 47787, 47790, 15025, 15036, 15041, 15046, 15047, 47816, 15052, 15054, 15055, 15057, 47827, 15061, 15066, 80603, 15091, 80628, 15093, 15103, 47887, 15121, 80658, 15128, 47906, 47907, 15153, 15160, 47941, 15175, 15185, 47956, 15191, 47963, 15208, 15209, 47983, 15219, 80757, 47993, 15226, 15227, 15228, 15232, 80778, 15243, 48011, 80789, 15254, 80791, 48025, 80799, 48032, 15265, 80805, 48038, 15283, 15284, 15285, 15301, 80847, 15311, 80858, 15333, 15337, 15343, 48118, 48123, 48124, 15357, 15361, 15370, 15374, 48143, 15380, 15381, 80920, 15387, 48159, 80927, 15401, 15407, 48177, 15411, 15418, 80956, 15428, 15434, 15439, 15441, 80982, 15450, 15453, 15454, 48233, 15465, 15472, 81020, 15486, 81025, 15490, 15503, 81041, 15509, 48292, 48297, 15537, 15538, 15545, 15546, 15547, 15548, 15558, 48327, 81096, 15563, 15566, 15570, 48340, 15573, 48344, 15576, 81114, 81122, 48372, 81146, 15610, 81154, 48388, 81157, 15624, 15632, 15637, 15641, 15644, 15645, 48414, 48420, 15654, 81202, 15672, 81209, 15679, 15682, 48451, 48453, 15686, 15687, 81229, 81232, 15697, 81233, 15704, 81245, 81247, 15713, 15716, 15722, 15726, 15727, 15728, 15732, 15733, 15749, 48521, 15754, 48527, 15763, 15769, 15770, 15778, 81317, 15784, 15793, 81342, 15809, 15812, 81349, 81362, 15832, 15841, 15843, 15847, 15850, 81387, 15852, 15853, 15877, 15881, 15883, 81425, 15894, 15904, 15905, 81443, 81444, 48677, 15914, 15916, 15918, 15919, 81456, 15922, 48693, 81464, 48697, 15930, 15933, 15935, 15952, 81491, 15964, 48734, 15967, 15977, 81515, 48752, 15992, 81529, 15996, 81543, 81545, 48779, 16013, 16020, 16022, 81560, 16025, 48794, 81561, 16032, 16044, 48812, 16053, 48821, 16055, 81592, 48826, 81608, 16072, 16074, 16076, 16080, 16088, 48872, 16112, 16115, 48885, 16122, 81660, 81662, 16129, 16136, 16139, 16156, 81692, 16164, 16166, 16172, 16178, 81715, 16186, 16194, 16200, 48974, 16210, 16213, 16216, 81754, 48999, 16236, 81778, 49019, 16256, 16258, 16259, 16260, 16265, 49034, 49037, 81807, 16271, 81810, 16275, 16278, 16279, 16281, 16286, 16296, 16298, 49068, 81846, 16312, 49081, 81850, 16318, 16320, 81865, 81866, 49106, 16342, 16345, 16351, 81893, 81904, 49140, 16373, 16375, 16381, 16382, 16391, 16411, 16412, 81958, 16429, 16446, 16454, 16455, 49225, 16463, 82003, 16468, 16483, 16490, 16492, 82038, 16504, 16516, 16518, 82065, 16531, 82073, 16542, 49311, 16544, 16549, 16550, 16551, 16553, 16554, 82091, 49328, 16560, 82100, 82104, 16577, 16579, 16590, 16592, 16605, 49380, 82150, 16618, 16621, 16633, 16636, 82177, 16644, 16646, 82187, 16655, 82195, 49431, 16666, 82202, 82208, 16674, 16675, 16676, 16677, 16680, 82217, 16684, 49453, 16687, 82229, 82231, 16695, 16696, 16698, 16709, 16721, 16723, 16724, 16726, 16727, 16738, 16740, 16745, 16748, 16752, 16755, 16774, 16775, 49544, 16776, 16784, 16786, 49555, 16787, 16791, 16792, 16798, 16800, 16802, 16805, 49580, 16819, 16821, 16832, 16839, 82377, 49611, 16847, 16849, 49623, 16856, 82393, 16860, 16865, 49634, 16866, 82405, 16879, 16881, 49649, 16884, 16888, 16897, 82433, 16911, 16913, 16914, 49683, 16917, 16932, 16934, 16943, 16947, 16949, 82494, 16961, 16975, 16976, 16988, 16989, 16992, 16994, 16996, 17002, 17008, 82551, 17021, 17024, 17026, 82575, 17041, 17047, 17052, 17065, 17068, 17072, 49840, 82609, 17079, 17083, 17086, 17089, 49872, 17112, 82649, 17122, 17125, 17130, 17132, 17133, 17143, 17145, 82681, 17149, 82685, 17155, 49925, 17181, 17182, 49952, 17190, 17191, 17196, 17205, 17206, 49999, 17236, 17237, 17239, 17244, 17249, 17260, 17261, 82806, 50041, 82810, 17278, 17279, 50049, 17282, 17299, 82843, 82846, 50079, 50087, 50093, 17328, 17330, 17336, 17339, 17341, 50113, 17367, 50140, 50141, 50148, 17384, 17399, 17406, 17412, 82950, 17419, 17421, 17423, 82960, 82973, 50237, 17472, 83013, 17488, 50259, 17496, 17497, 17505, 17513, 17521, 83057, 17530, 17531, 50302, 17539, 83079, 17546, 50315, 17548, 50321, 17564, 17570, 17574, 17580, 17581, 17582, 83120, 17586, 17589, 83128, 50362, 17606, 17610, 17613, 17617, 83156, 50391, 17628, 50405, 50409, 83180, 83182, 17651, 17655, 17658, 17659, 17664, 17667, 83204, 50440, 83210, 50445, 17679, 17683, 17692, 17696, 17708, 50476, 17712, 17717, 83255, 17721, 17722, 17728, 17735, 50507, 17742, 17743, 17754, 17758, 50532, 83301, 17764, 17767, 17775, 17778, 17780, 17782, 17786, 17789, 17791, 17794, 17795, 17796, 17798, 17800, 17802, 17807, 17809, 17820, 83361, 17827, 17833, 17837, 17843, 50618, 50623, 83393, 17858, 17859, 17857, 17863, 83401, 17868, 50648, 17882, 50651, 17891, 17894, 83433, 17899, 17901, 17904, 17906, 17912, 17928, 83466, 17946, 17949, 50721, 17964, 50735, 83509, 50744, 17977, 17978, 50757, 83527, 50760, 50761, 50762, 83532, 17997, 50772, 18006, 83550, 83564, 18031, 18032, 18035, 18036, 50807, 50817, 50822, 18054, 18063, 18066, 83603, 18068, 18067, 83607, 18071, 83608, 18076, 18082, 18089, 50859, 18094, 18101, 18103, 18104, 18105, 18113, 18114, 83653, 18119, 18123, 18126, 50895, 50899, 18148, 18153, 83691, 83695, 83700, 18166, 18168, 50939, 18184, 18186, 18187, 50969, 50976, 18214, 83751, 18216, 50991, 18225, 18233, 51004, 18250, 18254, 51025, 18258, 51027, 51039, 18281, 18288, 18290, 18294, 51078, 18320, 18321, 18322, 18333, 18353, 83892, 18357, 18363, 83901, 18368, 18376, 51145, 18395, 83932, 51165, 83937, 18402, 18408, 51178, 51180, 18418, 18419, 51188, 51195, 83964, 18430, 51203, 18436, 18456, 18459, 18460, 18461, 18468, 18473, 18477, 18484, 51275, 18510, 18516, 84061, 18532, 18546, 18556, 18557, 51327, 51335, 51337, 18570, 84107, 18572, 51349, 18586, 18590, 18596, 18605, 18614, 18622, 18623, 18629, 18633, 84172, 18637, 18648, 18649, 51418, 18657, 18673, 18677, 18681, 84223, 51462, 18699, 18700, 18704, 51482, 18719, 18725, 51493, 18737, 18738, 18739, 18740, 18756, 18759, 18764, 18768, 84306, 18771, 84310, 51545, 18778, 51555, 51558, 18792, 84350, 18815, 18825, 51596, 18839, 18846, 18847, 18848, 18860, 51628, 18868, 84421, 18892, 51663, 18897, 18902, 18908, 18910, 84450, 18921, 84461, 84463, 18928, 84465, 51698, 84467, 84469, 18936, 18942, 18952, 18953, 18954, 51724, 18958, 18962, 18967, 18968, 18971, 18974, 18982, 84519, 51754, 18996, 84534, 19002, 19012, 51783, 19016, 19029, 51798, 19038, 19039, 19040, 19048, 19053, 51821, 19056, 19059, 84595, 19060, 84600, 19069, 19071, 51839, 19074, 19075, 19079, 84615, 19080, 51847, 19087, 84624, 51859, 19092, 19095, 84633, 19098, 19102, 19104, 19117, 19119, 51891, 84669, 51909, 19142, 19148, 84685, 84687, 19154, 19155, 19164, 19169, 19184, 19191, 19201, 19208, 84745, 19213, 19216, 19223, 51992, 19228, 19241, 19246, 52021, 19270, 19289, 19293, 19296, 52068, 19303, 19308, 84845, 19310, 19322, 19326, 19330, 19333, 19334, 84874, 19338, 52109, 19344, 19346, 19351, 19354, 19356, 52125, 19361, 19370, 19371, 19372, 84909, 19375, 84914, 19398, 52172, 19408, 19410, 19411, 19412, 19418, 52191, 84966, 19437, 84983, 19449, 19450, 19463, 19470, 19472, 52260, 19493, 52263, 85036, 19507, 19512, 85050, 19522, 52296, 19529, 19533, 52307, 19543, 85079, 19544, 19547, 52330, 19568, 19569, 19570, 52350, 19583, 19588, 19590, 19592, 85131, 19596, 19597, 52370, 85138, 19604, 85144, 19616, 19617, 19620, 19622, 85163, 19627, 19632, 19641, 52420, 85195, 19666, 52436, 52452, 52453, 19690, 19698, 52467, 19701, 52482, 85255, 85258, 19728, 85264, 19731, 19754, 19757, 52529, 19771, 19772, 52547, 85327, 19793, 52566, 19798, 19805, 52574, 19811, 85350, 19815, 19817, 19823, 52592, 52593, 19827, 19833, 52606, 19842, 19851, 52622, 19858, 19859, 85402, 19872, 52641, 52647, 85417, 19891, 19894, 19896, 19897, 19898, 85441, 52676, 19911, 19913, 85457, 52697, 19937, 19940, 52710, 85479, 19952, 85489, 19953, 85490, 52736, 19981, 19984, 19986, 20007, 20009, 52779, 20036, 52808, 52816, 20060, 20061, 20062, 52828, 20064, 20066, 20071, 20075, 20084, 20086, 20088, 20101, 85639, 52872, 52875, 52878, 20116, 20121, 20124, 20130, 52898, 20132, 20133, 52899, 20140, 20147, 85685, 20162, 52932, 85700, 85704, 20169, 20173, 52945, 20181, 20187, 85723, 20190, 20199, 85740, 20204, 52974, 52978, 20214, 52985, 20217, 20226, 52996, 20230, 20236, 20240, 20242, 53014, 20248, 20249, 20256, 20263, 85828, 20296, 85842, 20309, 20312, 20318, 20320, 20326, 85866, 85870, 20339, 20346, 53119, 20356, 85892, 85899, 20372, 20373, 20375, 20381, 20383, 20389, 85929, 20400, 53176, 20409, 20410, 20421, 20423, 20424, 20425, 20426, 20447, 53216, 85986, 20460, 85999, 53238, 20471, 20473, 20479, 53247, 86018, 53269, 86042, 53294, 20528, 20536, 53309, 20542, 20545, 20546, 20548, 86086, 20551, 20552, 86089, 20560, 20561, 20573, 20577, 20578, 20580, 53355, 20598, 20600, 53371, 53372, 20606, 53377, 86146, 20620, 86158, 20624, 20626, 53404, 20643, 20644, 53411, 20651, 20656, 86193, 53432, 53437, 86209, 20678, 20688, 53459, 20698, 53466, 20704, 20711, 20713, 53492, 20724, 86276, 20742, 20743, 86279, 20745, 20747, 20754, 20759, 53534, 20769, 20776, 20778, 20794, 20796, 20801, 20804, 20816, 20824, 53596, 53600, 20836, 20838, 20856, 86393, 53632, 20865, 53636, 53650, 20883, 20891, 53663, 20900, 53669, 20913, 20920, 20922, 20925, 20929, 20931, 20938, 20944, 53714, 20947, 20957, 20966, 20968, 20969, 53739, 20979, 20981, 53759, 20994, 86530, 53763, 21003, 53775, 21015, 53787, 21021, 86561, 53804, 21042, 21051, 21071, 21072, 53850, 21090, 86628, 21093, 21099, 21102, 21107, 21108, 53876, 86645, 53878, 86648, 21115, 21123, 21124, 21125, 86663, 53896, 21138, 21139, 21144, 86684, 21150, 21151, 21156, 21162, 21166, 21168, 86709, 86711, 86717, 86719, 21185, 21195, 21202, 21220, 21223, 21233, 86773, 21255, 21256, 86805, 21273, 86810, 21274, 21277, 21280, 21282, 21284, 86824, 21293, 86831, 21301, 21302, 21306, 86845, 21312, 21318, 21321, 21323, 86866, 21334, 86879, 21347, 21350, 54121, 21362, 21369, 21401, 86939, 21405, 54177, 21413, 54182, 21423, 86961, 54197, 21431, 21447, 21448, 21450, 21452, 21453, 21454, 21457, 21458, 21460, 21462, 21469, 54241, 54247, 21483, 21507, 54276, 21510, 21513, 21514, 87053, 87055, 21520, 54289, 21522, 21530, 54305, 21538, 21548, 21553, 21569, 21574, 21580, 54348, 21584, 21592, 21607, 87144, 21613, 54385, 21619, 21623, 54393, 21627, 21630, 21633, 54406, 21645, 21651, 54420, 21666, 21675, 54444, 21686, 21687, 21688, 21693, 21700, 21706, 54487, 87257, 87263, 21727, 87266, 21734, 87275, 21743, 21745, 87284, 54523, 87291, 21766, 21769, 21771, 21773, 21786, 21795, 21806, 87348, 87352, 21817, 21819, 21827, 21828, 21835, 87376, 54610, 21845, 54613, 21853, 21857, 21860, 21866, 54636, 87410, 21881, 54651, 21885, 21892, 54660, 87428, 21900, 21901, 21903, 21910, 54681, 21921, 87470, 21939, 21951, 21955, 54728, 21962, 21965, 21975, 21990, 87533, 22004, 22007, 22010, 22017, 22019, 22020, 22024, 22026, 22029, 87572, 54806, 54811, 22043, 22047, 22050, 54825, 54826, 87595, 54830, 54832, 87602, 22067, 22078, 22079, 22083, 87621, 22098, 87651, 22119, 22122, 54894, 22126, 22128, 22129, 22130, 87687, 54922, 22160, 22165, 54935, 87704, 22176, 22180, 22200, 22206, 22207, 22208, 22213, 22225, 54994, 22234, 22235, 55013, 22251, 22253, 55027, 22266, 22277, 55049, 22285, 22289, 22291, 55059, 22297, 22312, 22324, 55094, 22330, 22332, 22333, 87869, 55104, 22336, 22337, 87880, 22350, 22371, 22383, 22386, 87926, 22392, 87936, 22400, 87948, 55180, 55186, 55188, 22421, 22423, 22424, 22426, 87963, 87962, 22432, 87978, 22442, 87980, 87982, 22449, 87986, 22450, 87995, 22466, 88008, 88009, 22475, 88018, 22490, 55260, 22493, 22500, 22503, 22505, 55273, 55281, 22516, 22520, 22528, 88065, 22534, 22538, 88079, 22545, 22549, 22553, 88091, 22557, 22559, 55332, 55337, 22578, 22579, 22581, 22585, 22587, 22588, 55357, 22600, 22624, 88163, 88164, 22644, 22646, 55423, 22656, 22663, 22667, 88206, 22677, 88214, 22693, 22697, 22700, 22712, 22718, 88265, 22732, 22735, 22751, 22753, 22754, 55523, 55529, 22763, 22766, 88306, 22780, 22782, 22788, 88325, 55559, 22792, 22793, 22797, 22800, 22801, 55571, 22804, 88343, 22815, 22818, 88356, 55591, 22823, 55597, 55601, 22835, 22836, 22844, 55616, 22849, 22851, 22853, 22855, 22856, 22860, 22862, 22872, 88420, 22888, 22891, 88432, 22896, 55672, 55677, 22914, 22921, 22930, 22931, 22933, 22936, 22938, 22941, 22946, 22951, 22954, 22963, 22970, 88508, 88523, 22987, 23000, 23002, 23014, 55783, 23023, 23028, 23036, 23038, 23039, 23049, 23060, 23081, 23082, 23092, 88635, 23100, 88636, 23108, 23109, 88647, 55909, 88685, 23150, 55920, 55921, 23154, 23153, 23156, 23161, 23162, 88711, 23178, 23179, 23194, 23197, 55966, 88733, 23201, 55973, 23209, 23219, 23224, 55992, 23226, 88765, 23238, 23242, 23244, 88782, 23249, 23257, 23262, 23264, 23275, 23281, 23288, 23292, 23295, 88832, 23304, 23313, 23317, 23318, 88857, 23325, 23332, 23339, 56112, 88882, 56116, 56128, 23364, 23365, 23368, 23371, 23380, 23384, 23390, 23394, 23397, 56174, 23407, 56179, 56201, 88971, 23440, 23450, 23452, 88994, 56229, 23471, 56240, 23473, 23475, 56243, 23477, 23478, 23483, 23489, 23498, 56269, 23503, 89040, 56283, 23517, 56287, 56289, 56290, 23523, 23533, 56307, 23546, 23549, 56317, 89092, 89095, 89100, 89103, 23568, 23577, 89119, 89124, 23596, 23613, 56391, 23632, 23637, 23642, 89180, 23651, 23657, 23666, 56440, 23675, 89212, 23678, 23680, 23687, 23694, 56462, 23696, 23697, 23706, 23707, 56478, 23711, 23719, 56490, 23725, 23734, 56502, 23735, 23739, 89277, 23749, 23752, 89290, 23755, 56527, 23761, 23762, 23779, 23780, 56552, 23785, 23786, 23788, 23790, 23792, 89329, 23802, 23804, 23809, 89347, 23811, 23815, 89356, 23826, 23829, 23837, 23843, 23844, 23845, 23847, 23849, 56635, 23872, 23873, 23876, 23882, 89419, 23885, 23895, 23897, 23904, 89446, 89447, 23927, 23929, 23933, 56703, 23943, 23946, 23949, 89493, 23959, 89502, 23979, 23986, 56757, 23990, 56758, 23999, 89536, 24018, 89556, 24021, 56796, 24029, 56798, 24030, 24049, 24067, 24071, 56840, 24074, 89616, 24083, 24084, 56854, 56855, 24086, 56861, 24094, 89633, 24099, 24105, 24110, 24111, 24114, 24116, 24121, 24123, 24129, 24132, 24134, 24141, 24163, 24170, 24177, 24181, 24188, 24190, 24198, 89735, 89754, 24226, 24232, 57001, 24233, 24235, 24236, 24237, 24242, 24243, 24248, 24252, 24253, 89797, 24263, 89799, 24271, 24276, 24280, 89817, 57051, 24285, 24289, 89840, 57073, 24307, 24317, 57091, 24330, 57105, 24344, 57114, 24357, 24361, 57138, 57139, 24374, 24387, 57157, 89927, 57159, 24401, 24402, 57172, 57199, 24444, 24447, 89992, 24465, 24466, 24468, 24477, 24480, 90020, 90021, 24486, 57255, 24488, 90026, 90033, 24504, 90044, 24510, 57290, 57299, 24548, 24552, 57321, 24556, 57330, 24562, 24569, 24571, 24573, 57342, 24575, 24577, 24580, 24581, 90122, 24586, 24588, 24607, 90143, 24612, 24616, 24622, 90165, 24629, 24631, 24635, 57412, 24653, 24656, 24663, 57437, 24672, 24674, 24675, 24676, 24677, 24682, 24683, 24687, 24692, 57467, 57476, 24711, 24712, 24714, 57496, 24743, 24745, 24769, 24772, 24776, 90317, 24785, 24794, 24806, 24807, 24808, 90354, 24824, 24825, 90365, 57599, 90369, 24837, 24846, 24854, 90392, 24856, 24858, 90396, 24865, 90403, 24868, 57637, 24872, 90418, 24886, 24889, 24891, 24900, 24901, 24902, 90441, 90451, 57686, 90455, 90460, 24937, 24938, 57713, 24955, 24957, 24958, 57734, 57735, 90508, 24975, 24977, 24978, 24981, 24982, 90522, 24995, 90533, 57765, 25001, 90538, 25004, 25006, 25008, 25009, 90546, 25012, 25016, 25020, 90560, 25027, 25030, 57806, 25039, 25049, 25053, 25060, 25069, 25070, 25072, 25075, 25076, 25080, 25104, 25108, 25111, 25113, 25115, 25117, 25121, 90658, 25131, 25135, 57907, 90676, 57911, 25143, 25150, 90688, 25155, 25157, 90699, 57935, 25167, 25175, 25177, 25178, 90720, 25184, 25188, 25189, 90725, 25212, 25213, 57981, 25216, 25217, 57985, 25219, 90755, 25225, 25232, 25234, 25235, 58008, 25251, 25255, 25256, 25258, 25259, 90802, 90805, 25270, 90814, 25280, 25286, 25297, 90834, 25299, 25302, 25313, 25317, 25318, 25321, 25323, 25326, 25329, 25332, 25337, 25338, 58108, 25345, 25354, 58128, 25363, 58134, 25367, 25368, 90902, 90910, 25377, 25384, 58153, 25385, 58163, 25395, 25400, 25411, 25413, 25415, 25416, 90954, 25449, 90990, 25458, 25473, 58242, 25477, 58247, 25481, 25482, 58249, 25487, 91024, 25490, 58264, 25497, 25504, 25510, 25515, 58286, 25523, 25526, 25528, 58296, 25538, 25540, 58308, 25553, 91090, 25557, 91103, 25574, 25578, 25581, 58351, 25590, 91143, 58377, 91150, 58389, 91158, 58392, 25634, 25640, 25655, 25658, 91199, 91200, 58433, 25668, 58451, 25693, 25696, 25697, 25699, 91242, 25708, 91245, 25711, 25723, 25724, 25725, 58501, 25734, 25736, 58505, 25739, 25757, 58526, 58528, 25764, 25772, 25775, 25779, 25780, 25782, 25786, 25787, 25788, 25790, 91327, 25801, 25809, 58580, 25814, 25815, 25822, 25835, 25847, 25848, 58617, 25851, 25860, 25876, 25879, 25882, 25888, 25889, 25891, 25904, 25905, 91451, 25921, 91465, 25929, 25933, 91469, 25935, 25941, 25949, 25950, 25954, 25963, 58732, 25965, 58736, 25970, 58740, 91511, 25975, 91513, 58747, 25989, 91525, 91529, 25995, 25996, 25997, 58773, 26012, 91548, 26013, 58781, 91551, 58782, 58792, 58793, 91561, 26027, 26031, 26036, 26040, 58810, 26043, 26046, 26052, 58821, 91588, 26055, 58825, 91601, 58834, 26067, 26066, 91616, 58854, 26094, 26095, 91633, 58868, 26102, 26105, 26118, 26119, 26124, 26125, 58899, 91669, 26134, 26136, 26139, 26140, 58917, 26160, 26161, 26168, 91705, 26178, 26187, 58955, 26192, 91730, 26200, 26201, 91738, 26208, 26212, 26214, 26215, 26218, 26219, 26220, 26222, 26224, 58993, 26228, 26231, 91773, 26261, 26263, 91802, 59036, 26271, 26274, 26277, 59049, 26285, 26286, 26288, 26291, 59067, 91838, 26303, 91842, 26308, 26313, 59085, 26317, 91855, 26320, 26324, 91862, 26331, 91872, 26337, 26350, 26356, 59133, 26368, 59141, 26377, 26381, 26384, 26391, 26395, 91934, 26398, 26399, 26401, 26406, 26412, 26421, 26425, 59194, 59198, 26431, 26432, 59210, 59215, 26452, 26455, 59225, 91995, 26459, 26469, 26474, 26475, 59246, 26479, 26491, 26494, 26515, 26519, 26523, 92063, 92066, 26532, 59301, 26535, 59311, 59314, 59318, 26576, 59347, 26579, 92117, 92135, 92137, 26601, 26603, 59375, 26618, 26620, 26632, 26633, 26637, 26638, 92175, 59411, 26648, 26649, 92195, 26661, 26672, 26673, 59442, 92212, 26678, 59448, 26685, 26688, 59457, 26690, 26698, 26704, 26705, 26709, 26713, 26715, 26724, 26727, 59496, 59505, 26737, 59507, 92277, 59513, 92281, 59516, 92287, 26754, 26771, 26779, 26780, 26781, 59549, 59551, 92326, 92331, 92373, 26837, 59618, 26855, 92393, 59628, 59630, 26863, 26864, 26868, 26872, 92410, 92415, 92420, 26884, 26887, 26889, 59657, 92425, 26901, 92438, 59677, 26921, 26926, 26928, 26932, 26935, 26936, 26948, 59716, 59720, 26956, 26964, 26967, 26980, 92525, 59761, 26993, 27002, 27003, 92551, 27020, 27022, 27024, 27026, 59797, 59801, 27036, 27043, 27049, 92589, 59828, 27065, 59834, 27067, 59841, 59845, 27077, 27083, 27084, 27089, 27092, 59864, 27102, 27103, 27106, 59875, 92644, 92651, 27117, 27119, 59889, 27121, 27132, 92668, 27143, 27148, 59917, 27152, 59924, 27160, 27162, 27163, 27167, 59936, 27172, 59945, 27179, 59948, 27184, 27190, 27192, 59960, 27195, 27198, 27209, 27210, 59979, 59986, 92757, 59991, 27232, 27235, 27237, 27242, 27243, 27245, 27247, 60020, 27256, 92796, 92801, 27266, 27278, 27282, 92820, 60057, 27290, 27299, 92843, 27315, 60104, 92873, 60106, 27337, 27341, 60115, 27355, 27362, 27365, 27367, 60142, 27374, 27379, 27386, 27387, 27390, 27398, 27399, 27400, 60180, 60181, 27414, 27416, 27424, 27425, 27427, 27431, 27434, 27440, 27447, 27449, 60226, 27462, 27463, 27464, 27467, 27468, 27471, 27472, 27476, 93018, 27486, 93025, 93026, 27499, 27500, 93039, 27504, 60274, 27511, 27512, 93054, 60295, 27530, 27536, 93078, 27542, 27547, 27551, 27553, 27554, 27563, 27570, 27574, 60343, 27576, 27577, 93113, 93119, 27588, 27597, 27598, 27599, 27603, 27616, 27617, 27639, 27643, 93187, 27655, 93191, 27657, 27659, 27660, 27661, 27665, 27666, 27667, 60436, 27677, 27690, 27694, 93233, 27710, 27712, 27722, 27723, 27726, 27729, 93272, 93277, 27743, 27745, 93284, 27750, 60518, 27758, 27770, 27771, 93325, 27790, 27793, 27795, 27797, 27800, 93336, 27808, 27816, 27823, 93360, 60595, 27829, 93381, 93387, 27851, 93398, 27863, 27866, 27869, 27872, 27875, 27879, 93422, 27894, 93432, 60668, 27901, 27905, 27910, 93459, 27927, 27931, 27934, 93475, 27949, 27953, 27960, 27964, 60737, 93506, 27979, 27981, 93517, 27995, 93535, 60767, 60773, 28013, 28016, 28017, 28019, 93560, 28026, 93564, 60798, 93571, 28039, 28043, 28050, 93593, 28057, 93595, 60829, 28061, 28065, 93602, 28073, 93610, 60842, 28080, 28082, 28089, 28090, 28092, 28093, 60864, 93632, 28099, 28101, 93637, 28104, 28109, 60878, 93648, 28115, 93659, 93663, 28135, 28138, 93679, 93701, 28166, 93705, 28174, 28175, 28180, 28182, 93722, 60955, 28190, 28192, 28202, 28206, 60977, 28221, 28222, 28223, 28227, 61005, 28239, 28240, 28247, 28259, 61030, 93799, 28264, 28265, 28270, 93806, 28278, 28281, 28291, 28292, 28293, 28296, 28298, 28300, 93836, 93838, 61076, 61078, 28313, 28315, 61084, 93870, 28336, 61106, 28338, 28343, 28346, 28356, 28358, 93900, 28365, 93924, 61157, 28388, 28394, 61163, 93932, 28399, 28410, 61179, 61182, 93950, 28416, 28423, 28424, 28426, 61195, 61201, 93970, 28447, 61223, 28457, 28462, 94016, 94021, 61259, 28496, 28502, 28505, 28508, 94046, 94049, 28515, 28516, 28522, 28525, 28529, 28530, 28531, 28541, 28544, 28561, 28566, 94105, 28575, 28576, 94117, 28600, 28601, 28611, 28619, 28628, 28644, 28651, 28657, 28660, 28671, 28676, 28677, 28681, 28683, 28698, 28700, 61472, 94241, 28712, 28716, 94256, 28721, 28724, 94264, 28729, 61500, 28735, 28741, 28742, 61519, 28752, 28753, 28754, 94297, 28765, 28775, 94312, 28776, 28790, 28792, 94329, 28805, 28808, 28814, 28820, 28824, 28827, 61605, 28843, 61620, 28860, 61630, 28865, 28866, 28868, 28869, 61642, 28880, 28882, 28883, 28887, 61659, 94430, 61667, 28902, 61671, 61676, 94446, 28911, 28915, 28926, 28930, 28933, 28935, 28939, 28941, 61711, 28944, 28960, 61738, 61740, 28973, 28982, 94525, 94530, 28999, 29002, 29003, 29012, 29027, 29030, 61802, 29035, 94574, 94575, 61809, 29043, 94581, 61816, 29050, 29052, 29054, 29055, 61825, 94597, 29073, 29075, 94611, 29092, 29096, 29105, 94645, 29110, 29115, 29121, 29123, 29129, 29130, 29135, 29137, 29138, 29141, 29142, 94696, 94698, 61932, 29164, 29175, 61943, 29176, 29191, 29219, 29220, 94762, 94785, 29251, 29252, 29261, 29262, 62032, 62035, 29274, 29276, 29278, 29280, 94817, 94821, 94828, 29299, 29304, 29305, 62072, 29315, 29316, 29317, 29328, 29334, 29336, 29338, 29340, 29343, 62114, 29350, 29352, 29358, 29359, 29360, 29364, 29365, 29366, 29372, 29375, 29377, 29378, 94924, 62157, 29392, 29398, 94937, 94944, 62183, 62186, 94959, 29425, 29426, 62194, 94962, 29430, 29433, 29436, 94974, 94977, 29453, 29463, 95000, 29467, 95004, 29470, 62239, 29477, 29478, 29481, 29483, 62259, 62261, 29493, 29495, 29496, 29497, 29502, 29503, 29504, 29509, 29512, 62284, 29520, 95057, 29530, 62298, 95076, 29541, 29544, 29545, 29552, 29553, 29556, 29558, 95100, 29570, 29576, 29579, 29581, 95118, 95122, 95126, 95129, 95136, 29601, 62380, 29615, 29620, 29621, 62389, 29629, 29631, 29633, 95182, 29660, 29664, 29665, 29666, 29672, 29682, 29688, 29690, 62466, 95238, 29708, 62478, 62479, 29722, 29726, 29730, 29732, 29744, 62514, 29755, 62527, 29765, 29767, 62543, 95312, 29810, 62586, 29819, 62594, 29829, 62603, 95372, 62608, 95377, 95380, 62613, 29845, 29859, 29861, 29862, 29866, 29872, 62641, 62646, 62650, 29884, 95427, 29894, 29904, 29905, 62674, 95447, 62681, 29918, 62691, 29926, 29937, 29946, 62717, 29950, 29961, 29965, 62734, 29967, 29968, 29969, 62733, 29971, 29972, 95515, 29985, 95523, 29991, 29999, 30011, 30015, 95561, 30026, 62813, 30047, 30049, 30054, 30065, 30067, 30070, 30071, 30075, 30084, 30088, 30093, 30095, 62865, 95637, 30105, 30110, 30114, 30120, 30129, 30139, 30140, 95677, 30143, 30144, 62917, 30154, 30155, 62925, 62930, 30163, 95705, 95708, 30183, 95725, 30192, 30195, 30198, 30202, 30208, 30214, 30217, 95759, 30225, 95765, 30239, 63009, 30243, 95782, 30247, 30253, 30259, 30262, 30266, 63039, 30274, 30275, 30277, 95816, 63048, 30282, 30284, 63053, 95821, 63058, 95830, 30296, 95834, 30299, 30298, 30303, 30316, 30322, 30336, 63107, 30341, 63109, 30344, 30348, 30349, 63116, 30354, 95895, 63130, 95909, 30376, 95925, 30393, 30405, 30408, 63177, 30410, 30412, 30414, 30420, 63201, 30437, 30447, 30453, 30457, 30460, 30461, 30464, 30466, 96006, 30476, 30477, 96023, 96025, 30501, 30503, 96040, 30505, 30507, 30508, 30509, 63290, 63292, 30530, 30534, 30541, 30544, 30548, 30550, 30551, 63320, 30552, 63327, 30561, 30564, 30565, 96100, 30569, 30575, 30579, 30590, 63360, 30595, 63364, 63368, 96137, 30601, 30606, 96145, 30610, 96148, 30616, 63386, 30637, 30638, 30641, 96177, 30646, 63415, 30648, 30650, 30659, 30660, 96199, 30669, 30671, 96212, 30678, 96218, 30682, 30695, 30696, 96234, 30699, 96240, 30707, 30714, 96259, 96260, 63494, 30732, 30737, 63519, 30754, 63539, 30777, 63552, 30786, 30790, 30798, 30820, 30822, 30825, 30829, 63601, 96371, 30846, 96391, 30855, 63628, 30861, 96404, 63637, 30868, 30887, 63660, 96429, 96442, 30911, 30913, 30915, 30917, 96456, 30924, 63692, 30927, 96468, 63701, 30940, 30946, 63721, 96491, 30962, 30964, 63733, 63734, 30977, 30979, 30985, 63755, 30987, 63756, 31029, 31031, 31033, 96577, 31043, 31044, 31051, 31054, 31056, 31062, 31069, 31073, 31086, 31088, 31093, 63875, 63878, 31112, 96651, 31120, 31122, 96666, 63899, 31133, 31135, 31136, 31137, 31139, 96677, 96686, 31153, 31160, 63938, 31171, 31170, 63943, 31183, 96719, 31185, 31187, 63955, 31190, 31193, 63961, 96731, 96734, 31199, 31198, 31203, 96741, 31205, 31207, 31206, 31212, 96759, 63992, 31226, 96767, 96774, 96777, 96791, 96793, 64026, 31260, 31262, 96810, 31275, 31279, 31290, 31301, 31305, 31312, 96848, 31320, 64089, 31322, 31330, 31332, 31336, 31340, 31361, 96908, 31376, 64153, 31385, 96924, 64160, 96928, 64171, 96950, 96958, 96962, 96965, 31439, 31441, 31442, 96984, 31451, 31454, 96997, 64230, 31470, 97020, 97023, 31489, 31496, 31501, 31502, 97037, 97042, 64274, 64277, 64286, 31520, 31521, 31527, 64296, 64298, 97070, 31564, 31569, 31573, 31574, 31585, 64361, 31610, 31641, 97178, 64411, 97181, 64416, 31651, 31660, 31662, 31664, 97206, 97212, 31679, 31680, 31684, 31692, 31700, 31709, 31712, 31717, 31719, 31728, 64520, 31755, 64538, 31770, 97307, 31778, 31779, 64550, 31792, 31812, 97353, 31842, 31854, 31866, 31880, 31881, 97421, 31886, 31891, 31904, 97441, 64673, 97443, 31910, 31911, 31912, 31928, 31931, 64700, 31935, 31942, 97488, 31965, 31966, 31969, 64740, 31973, 31972, 31977, 31982, 64752, 31987, 97529, 31994, 32005, 97547, 32013, 32014, 64785, 32023, 97564, 97567, 97569, 32050, 32052, 64825, 32061, 32074, 32082, 32099, 32104, 64873, 64874, 32122, 32125, 32130, 32135, 64904, 64906, 32140, 32150, 64919, 32153, 32154, 32156, 32161, 32177, 97714, 32181, 32193, 32195, 64969, 32203, 32219, 64988, 64999, 97769, 32234, 65003, 65004, 32247, 32286, 32287, 65056, 97830, 32299, 32303, 97842, 65082, 32317, 32348, 32351, 32362, 97902, 32367, 32373, 32376, 32377, 97916, 97917, 32380, 32387, 97924, 65164, 32396, 32399, 32406, 97942, 32410, 32412, 32419, 32420, 32421, 65190, 32425, 32429, 32434, 32436, 32438, 32440, 32441, 32447, 97984, 65217, 32453, 32460, 32465, 32466, 32475, 32481, 98024, 32495, 65267, 32500, 32502, 32504, 32511, 32512, 98048, 98050, 65284, 32517, 32527, 32536, 32540, 65309, 32548, 32559, 98103, 32568, 32572, 32574, 65351, 32592, 98130, 65364, 32599, 32605, 32613, 32628, 98169, 65401, 32637, 32639, 98185, 32652, 32658, 65431, 32664, 32677, 32678, 32679, 65449, 98220, 32684, 65467, 32707, 65481, 98249, 98268, 98276, 32740, 32742, 32743, 98279, 32746, 32749, 32766, 65535])"
      ]
     },
     "execution_count": 118,
     "metadata": {},
     "output_type": "execute_result"
    }
   ],
   "source": [
    "data['data'].keys()"
   ]
  },
  {
   "cell_type": "code",
   "execution_count": 119,
   "metadata": {},
   "outputs": [],
   "source": [
    "x_codes, x_cl,  demo, y_code = d[21]"
   ]
  },
  {
   "cell_type": "code",
   "execution_count": 120,
   "metadata": {},
   "outputs": [
    {
     "data": {
      "text/plain": [
       "torch.Size([29, 809])"
      ]
     },
     "execution_count": 120,
     "metadata": {},
     "output_type": "execute_result"
    }
   ],
   "source": [
    "x_codes.shape"
   ]
  },
  {
   "cell_type": "code",
   "execution_count": 121,
   "metadata": {},
   "outputs": [
    {
     "data": {
      "text/plain": [
       "tensor([1.])"
      ]
     },
     "execution_count": 121,
     "metadata": {},
     "output_type": "execute_result"
    }
   ],
   "source": [
    "x_cl"
   ]
  },
  {
   "cell_type": "code",
   "execution_count": 122,
   "metadata": {},
   "outputs": [
    {
     "data": {
      "text/plain": [
       "torch.Size([54])"
      ]
     },
     "execution_count": 122,
     "metadata": {},
     "output_type": "execute_result"
    }
   ],
   "source": [
    "demo.shape"
   ]
  },
  {
   "cell_type": "markdown",
   "metadata": {},
   "source": [
    "## Sequence classification trainning"
   ]
  },
  {
   "cell_type": "code",
   "execution_count": null,
   "metadata": {},
   "outputs": [],
   "source": [
    "try:\n",
    "    import nni\n",
    "except:\n",
    "    pass\n",
    "import os\n",
    "import json\n",
    "import argparse\n",
    "import torch\n",
    "import data_loader.data_loaders as module_data\n",
    "import model.loss as module_loss\n",
    "import model.metric as module_metric\n",
    "from utils import Logger\n",
    "\n",
    "\n",
    "def get_instance(module, name, config, *args):\n",
    "    return getattr(module, config[name][\"type\"])(*args, **config[name][\"args\"])\n",
    "\n",
    "\n",
    "def import_module(name, config):\n",
    "    return getattr(\n",
    "        __import__(\"{}.{}\".format(name, config[name][\"module_name\"])),\n",
    "        config[name][\"type\"],\n",
    "    )\n",
    "\n",
    "\n",
    "def mod_config(config, nni_params):\n",
    "    if nni_params == None:\n",
    "        return config\n",
    "\n",
    "    def recurse_dict(d, k, v):\n",
    "        if k in d:\n",
    "            d[k] = v\n",
    "            return d\n",
    "        for kk, vv in d.items():\n",
    "            if type(vv) == dict:\n",
    "                d[kk] = recurse_dict(vv, k, v)\n",
    "        return d\n",
    "\n",
    "    for k, v in nni_params.items():\n",
    "        if k in config:\n",
    "            config[k] = v\n",
    "            continue\n",
    "        for kk, vv in config.items():\n",
    "            if type(vv) == dict:\n",
    "                config[kk] = recurse_dict(vv, k, v)\n",
    "    return config\n",
    "\n",
    "\n",
    "def main(config, resume, nni_params={}):\n",
    "\n",
    "    config = mod_config(config, nni_params)\n",
    "    train_logger = Logger()\n",
    "\n",
    "    # setup data_loader instances\n",
    "    data_loader = get_instance(module_data, \"data_loader\", config)\n",
    "    valid_data_loader = data_loader.split_validation()\n",
    "\n",
    "    # build model architecture\n",
    "    model = import_module(\"model\", config)(**config[\"model\"][\"args\"])\n",
    "    # model = get_instance(module_arch, 'arch', config)\n",
    "    print(model)\n",
    "\n",
    "    # get function handles of loss and metrics\n",
    "    loss = getattr(module_loss, config[\"loss\"])\n",
    "    metrics = [getattr(module_metric, met) for met in config[\"metrics\"]]\n",
    "\n",
    "    # build optimizer, learning rate scheduler. delete every lines containing lr_scheduler for disabling scheduler\n",
    "    trainable_params = filter(lambda p: p.requires_grad, model.parameters())\n",
    "    optimizer = get_instance(torch.optim, \"optimizer\", config, trainable_params)\n",
    "    lr_scheduler = get_instance(\n",
    "        torch.optim.lr_scheduler, \"lr_scheduler\", config, optimizer\n",
    "    )\n",
    "\n",
    "    Trainer = import_module(\"trainer\", config)\n",
    "    trainer = Trainer(\n",
    "        model,\n",
    "        loss,\n",
    "        metrics,\n",
    "        optimizer,\n",
    "        resume=resume,\n",
    "        config=config,\n",
    "        data_loader=data_loader,\n",
    "        valid_data_loader=valid_data_loader,\n",
    "        lr_scheduler=lr_scheduler,\n",
    "        train_logger=train_logger,\n",
    "    )\n",
    "\n",
    "    trainer.train()\n",
    "\n",
    "config = 'configs/taper/seq_mortality.json'\n",
    "main(config, None, params)\n",
    "\n",
    "if __name__ == \"__main__\":\n",
    "    parser = argparse.ArgumentParser(description=\"Structmed Trainer\")\n",
    "    parser.add_argument(\n",
    "        \"-c\",\n",
    "        \"--config\",\n",
    "        default=None,\n",
    "        type=str,\n",
    "        help=\"config file path (default: None)\",\n",
    "    )\n",
    "    parser.add_argument(\n",
    "        \"-r\",\n",
    "        \"--resume\",\n",
    "        default=None,\n",
    "        type=str,\n",
    "        help=\"path to latest checkpoint (default: None)\",\n",
    "    )\n",
    "    parser.add_argument(\n",
    "        \"-d\",\n",
    "        \"--device\",\n",
    "        default=None,\n",
    "        type=str,\n",
    "        help=\"indices of GPUs to enable (default: None)\",\n",
    "    )\n",
    "    args = parser.parse_args()\n",
    "\n",
    "    if args.config:\n",
    "        # load config file\n",
    "        config = json.load(open(args.config))\n",
    "        path = os.path.join(config[\"trainer\"][\"save_dir\"], config[\"name\"])\n",
    "    elif args.resume:\n",
    "        # load config file from checkpoint, in case new config file is not given.\n",
    "        # Use '--config' and '--resume' arguments together to load trained model and train more with changed config.\n",
    "        config = torch.load(args.resume)[\"config\"]\n",
    "    else:\n",
    "        raise AssertionError(\n",
    "            \"Configuration file need to be specified. Add '-c config.json', for example.\"\n",
    "        )\n",
    "\n",
    "    if args.device:\n",
    "        os.environ[\"CUDA_VISIBLE_DEVICES\"] = args.device\n",
    "    torch.set_default_tensor_type(torch.cuda.FloatTensor if args.device else torch.FloatTensor)\n",
    "    params = {}\n",
    "    try:\n",
    "        params = nni.get_next_parameter()\n",
    "    except:\n",
    "        pass\n",
    "    # params = {\"text\": False}\n",
    "    # params = {\"text\": True, \"codes\": False, \"learning_rate\": 0.0001, \"demographics_size\": 0, \"batch_size\": 16, \"div_factor\": 1, \"step_size\": 40, \"class_weight_1\": 4.616655939419362, \"class_weight_0\": 0.81750651640358}\n",
    "    \n"
   ]
  }
 ],
 "metadata": {
  "kernelspec": {
   "display_name": "Python 3",
   "language": "python",
   "name": "python3"
  },
  "language_info": {
   "codemirror_mode": {
    "name": "ipython",
    "version": 3
   },
   "file_extension": ".py",
   "mimetype": "text/x-python",
   "name": "python",
   "nbconvert_exporter": "python",
   "pygments_lexer": "ipython3",
   "version": "3.8.5"
  },
  "toc-autonumbering": true,
  "toc-showmarkdowntxt": false,
  "toc-showtags": false
 },
 "nbformat": 4,
 "nbformat_minor": 4
}
